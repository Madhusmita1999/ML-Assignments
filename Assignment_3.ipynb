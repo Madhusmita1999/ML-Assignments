{
  "nbformat": 4,
  "nbformat_minor": 0,
  "metadata": {
    "colab": {
      "provenance": [],
      "authorship_tag": "ABX9TyNIGrkasxUYe2Hfm9LBulHu"
    },
    "kernelspec": {
      "name": "python3",
      "display_name": "Python 3"
    },
    "language_info": {
      "name": "python"
    }
  },
  "cells": [
    {
      "cell_type": "markdown",
      "source": [
        "1. Create a simple class 'Person' with name and age as attributes."
      ],
      "metadata": {
        "id": "aqEea6P6WYzm"
      }
    },
    {
      "cell_type": "code",
      "source": [
        "class Person:\n",
        "  def __init__(self, name, age):\n",
        "    self.name = name\n",
        "    self.age = age"
      ],
      "metadata": {
        "id": "c40JMS0uR9EQ"
      },
      "execution_count": 3,
      "outputs": []
    },
    {
      "cell_type": "markdown",
      "source": [
        "2. Add a method to the 'Person' class that prints a greeting."
      ],
      "metadata": {
        "id": "w_ZkrH4yWbmV"
      }
    },
    {
      "cell_type": "code",
      "source": [
        "class Person:\n",
        "  def __init__(self, name, age):\n",
        "    self.name = name\n",
        "    self.age = age\n",
        "\n",
        "  def greet(self):\n",
        "    print(f\"Hello, my name is {self.name} and I am {self.age} years old.\")"
      ],
      "metadata": {
        "id": "9s36tBsGSTxA"
      },
      "execution_count": 4,
      "outputs": []
    },
    {
      "cell_type": "markdown",
      "source": [
        "3. Create a class with a class variable and instance variable."
      ],
      "metadata": {
        "id": "ixjtRWgMWdnt"
      }
    },
    {
      "cell_type": "code",
      "source": [
        "class MyClass:\n",
        "  class_variable = \"This is a class variable\"\n",
        "\n",
        "  def __init__(self, instance_variable):\n",
        "    self.instance_variable = instance_variable\n",
        "\n",
        "  def display_variables(self):\n",
        "    print(f\"Class variable: {MyClass.class_variable}\")\n",
        "    print(f\"Instance variable: {self.instance_variable}\")"
      ],
      "metadata": {
        "id": "igPjcqOZSnjY"
      },
      "execution_count": 5,
      "outputs": []
    },
    {
      "cell_type": "markdown",
      "source": [
        "4. Create a private attribute in a class and access it using a method."
      ],
      "metadata": {
        "id": "ldd5ZA7GWf2O"
      }
    },
    {
      "cell_type": "code",
      "source": [
        "class MyClass:\n",
        "  def __init__(self):\n",
        "    self._private_attribute = \"This is a private attribute\"\n",
        "\n",
        "  def get_private_attribute(self):\n",
        "    return self._private_attribute\n",
        "\n",
        "  def set_private_attribute(self, value):\n",
        "    self._private_attribute = value\n",
        "\n",
        "obj = MyClass()\n",
        "print(obj.get_private_attribute())\n",
        "obj.set_private_attribute(\"New value\")\n",
        "print(obj.get_private_attribute())"
      ],
      "metadata": {
        "colab": {
          "base_uri": "https://localhost:8080/"
        },
        "id": "D0ZBjzs1S6cX",
        "outputId": "de09f6ab-821c-4808-c028-306eccf69ca9"
      },
      "execution_count": 6,
      "outputs": [
        {
          "output_type": "stream",
          "name": "stdout",
          "text": [
            "This is a private attribute\n",
            "New value\n"
          ]
        }
      ]
    },
    {
      "cell_type": "markdown",
      "source": [
        "5. Create a class with a method that returns the square of a number."
      ],
      "metadata": {
        "id": "DxbgkbGJWiTV"
      }
    },
    {
      "cell_type": "code",
      "source": [
        "class MathOperations:\n",
        "  def square(self, number):\n",
        "    return number ** 2"
      ],
      "metadata": {
        "id": "BPHQ-p8vTOpw"
      },
      "execution_count": 7,
      "outputs": []
    },
    {
      "cell_type": "markdown",
      "source": [
        "6. Create two objects of a class and demonstrate that they are independent."
      ],
      "metadata": {
        "id": "_3jGZkH4WkOG"
      }
    },
    {
      "cell_type": "code",
      "source": [
        "person1 = Person(\"Alice\", 30)\n",
        "person2 = Person(\"Bob\", 25)\n",
        "\n",
        "person1.age = 31\n",
        "\n",
        "print(f\"Person 1: Name - {person1.name}, Age - {person1.age}\")\n",
        "print(f\"Person 2: Name - {person2.name}, Age - {person2.age}\")"
      ],
      "metadata": {
        "colab": {
          "base_uri": "https://localhost:8080/"
        },
        "id": "lwrv8Db4TXcT",
        "outputId": "dd2a5276-87ef-4cef-858d-2b57a4e5d05e"
      },
      "execution_count": 8,
      "outputs": [
        {
          "output_type": "stream",
          "name": "stdout",
          "text": [
            "Person 1: Name - Alice, Age - 31\n",
            "Person 2: Name - Bob, Age - 25\n"
          ]
        }
      ]
    },
    {
      "cell_type": "markdown",
      "source": [
        "7. Create a class and use a method to set its attributes."
      ],
      "metadata": {
        "id": "Pp-yrWr6WlEN"
      }
    },
    {
      "cell_type": "code",
      "source": [
        "class Animal:\n",
        "  def __init__(self):\n",
        "    self.name = None\n",
        "    self.species = None\n",
        "\n",
        "  def set_attributes(self, name, species):\n",
        "    self.name = name\n",
        "    self.species = species\n",
        "\n",
        "  def display_attributes(self):\n",
        "    print(f\"Name: {self.name}, Species: {self.species}\")\n",
        "\n",
        "my_animal = Animal()\n",
        "my_animal.set_attributes(\"Tummy\", \"Dog\")\n",
        "my_animal.display_attributes()"
      ],
      "metadata": {
        "colab": {
          "base_uri": "https://localhost:8080/"
        },
        "id": "SwMjhfmxUocy",
        "outputId": "38777c0a-0dea-426b-8715-cf8d6096b1db"
      },
      "execution_count": 9,
      "outputs": [
        {
          "output_type": "stream",
          "name": "stdout",
          "text": [
            "Name: Tummy, Species: Dog\n"
          ]
        }
      ]
    },
    {
      "cell_type": "markdown",
      "source": [
        "8. Demonstrate use of 'isinstance()' with a class."
      ],
      "metadata": {
        "id": "5ie8y32TWm6N"
      }
    },
    {
      "cell_type": "code",
      "source": [
        "class Person:\n",
        "  def __init__(self, name, age):\n",
        "    self.name = name\n",
        "    self.age = age\n",
        "\n",
        "  def greet(self):\n",
        "    print(f\"Hello, my name is {self.name} and I am {self.age} years old.\")\n",
        "\n",
        "person_instance = Person(\"Alice\", 30)\n",
        "\n",
        "print(isinstance(person_instance, Person))\n",
        "\n",
        "print(isinstance(123, Person))"
      ],
      "metadata": {
        "colab": {
          "base_uri": "https://localhost:8080/"
        },
        "id": "-2MEbLZhUyVO",
        "outputId": "605fc74e-8ac2-47e6-f260-63657498bced"
      },
      "execution_count": 10,
      "outputs": [
        {
          "output_type": "stream",
          "name": "stdout",
          "text": [
            "True\n",
            "False\n"
          ]
        }
      ]
    },
    {
      "cell_type": "markdown",
      "source": [
        "9. Demonstrate single inheritance in Python."
      ],
      "metadata": {
        "id": "gRhgJJTyWp6F"
      }
    },
    {
      "cell_type": "code",
      "source": [
        "class Animal:\n",
        "    def __init__(self, name):\n",
        "        self.name = name\n",
        "\n",
        "    def speak(self):\n",
        "        pass\n",
        "\n",
        "class Dog(Animal):\n",
        "    def speak(self):\n",
        "        return \"vaow\"\n",
        "\n",
        "my_dog = Dog(\"Tummy\")\n",
        "\n",
        "print(my_dog.name + \" says: \" + my_dog.speak())"
      ],
      "metadata": {
        "colab": {
          "base_uri": "https://localhost:8080/"
        },
        "id": "ftWHtFAPVO15",
        "outputId": "c073e253-5af8-498a-bbe2-033a80aeb145"
      },
      "execution_count": 11,
      "outputs": [
        {
          "output_type": "stream",
          "name": "stdout",
          "text": [
            "Tummy says: vaow\n"
          ]
        }
      ]
    },
    {
      "cell_type": "markdown",
      "source": [
        "10. Create a base class and derive two child classes with different methods (multilevel inheritance)."
      ],
      "metadata": {
        "id": "Ys1EjQUzWqdd"
      }
    },
    {
      "cell_type": "code",
      "source": [
        "class Grandparent:\n",
        "    def grandparent_method(self):\n",
        "        print(\"This is a method from the grandparent class.\")\n",
        "\n",
        "class Parent(Grandparent):\n",
        "    def parent_method(self):\n",
        "        print(\"This is a method from the parent class.\")\n",
        "\n",
        "class Child(Parent):\n",
        "    def child_method(self):\n",
        "        print(\"This is a method from the child class.\")\n",
        "\n",
        "my_child = Child()\n",
        "my_child.grandparent_method()\n",
        "my_child.parent_method()\n",
        "my_child.child_method()"
      ],
      "metadata": {
        "colab": {
          "base_uri": "https://localhost:8080/"
        },
        "id": "ZJOa0ZzCVxEA",
        "outputId": "f2e948c1-e151-4d8b-8abf-5667d9d53ec0"
      },
      "execution_count": 12,
      "outputs": [
        {
          "output_type": "stream",
          "name": "stdout",
          "text": [
            "This is a method from the grandparent class.\n",
            "This is a method from the parent class.\n",
            "This is a method from the child class.\n"
          ]
        }
      ]
    },
    {
      "cell_type": "markdown",
      "source": [
        "11. Demonstrate method overriding in inheritance."
      ],
      "metadata": {
        "id": "DzBniqAKWwD9"
      }
    },
    {
      "cell_type": "code",
      "source": [
        "class Animal:\n",
        "    def speak(self):\n",
        "        print(\"Generic animal sound\")\n",
        "\n",
        "class Dog(Animal):\n",
        "    def speak(self): # Overriding the speak method\n",
        "        print(\"Vaow!\")\n",
        "\n",
        "generic_animal = Animal()\n",
        "my_dog = Dog()\n",
        "\n",
        "generic_animal.speak()\n",
        "my_dog.speak()"
      ],
      "metadata": {
        "colab": {
          "base_uri": "https://localhost:8080/"
        },
        "id": "bBnaa3dbWD7e",
        "outputId": "41a52633-a67f-4e38-bc76-9ebe2f23fbf7"
      },
      "execution_count": 13,
      "outputs": [
        {
          "output_type": "stream",
          "name": "stdout",
          "text": [
            "Generic animal sound\n",
            "Vaow!\n"
          ]
        }
      ]
    },
    {
      "cell_type": "markdown",
      "source": [
        "12. Use 'super()' to call a parent class method."
      ],
      "metadata": {
        "id": "uv9seNe9WyIN"
      }
    },
    {
      "cell_type": "code",
      "source": [
        "class Animal:\n",
        "    def __init__(self, name):\n",
        "        self.name = name\n",
        "\n",
        "    def speak(self):\n",
        "        print(\"Generic animal sound\")\n",
        "\n",
        "class Dog(Animal):\n",
        "    def __init__(self, name, breed):\n",
        "        super().__init__(name)\n",
        "        self.breed = breed\n",
        "\n",
        "    def speak(self):\n",
        "        super().speak()\n",
        "        print(\"vaow!\")\n",
        "\n",
        "    def display_info(self):\n",
        "        print(f\"Name: {self.name}, Breed: {self.breed}\")\n",
        "\n",
        "\n",
        "my_dog = Dog(\"Tummy\", \"Labrador\")\n",
        "my_dog.display_info()\n",
        "my_dog.speak()"
      ],
      "metadata": {
        "colab": {
          "base_uri": "https://localhost:8080/"
        },
        "id": "UUQ7-AzuWPJo",
        "outputId": "312ed2c6-7a8d-415e-87f9-396772cc7b91"
      },
      "execution_count": 14,
      "outputs": [
        {
          "output_type": "stream",
          "name": "stdout",
          "text": [
            "Name: Tummy, Breed: Labrador\n",
            "Generic animal sound\n",
            "vaow!\n"
          ]
        }
      ]
    },
    {
      "cell_type": "markdown",
      "source": [
        "13. Create an abstract base class using 'abc' module."
      ],
      "metadata": {
        "id": "9CoGLU2aW0XN"
      }
    },
    {
      "cell_type": "code",
      "source": [
        "import abc\n",
        "\n",
        "class AbstractBase(abc.ABC):\n",
        "    @abc.abstractmethod\n",
        "    def abstract_method(self):\n",
        "        pass\n",
        "\n",
        "    def concrete_method(self):\n",
        "        print(\"This is a concrete method.\")"
      ],
      "metadata": {
        "id": "kBrJ_C3SWeam"
      },
      "execution_count": 15,
      "outputs": []
    },
    {
      "cell_type": "markdown",
      "source": [
        "14. Demonstrate multiple inheritance in Python."
      ],
      "metadata": {
        "id": "0dBgVgtSW1Dd"
      }
    },
    {
      "cell_type": "code",
      "source": [
        "class Flyer:\n",
        "  def fly(self):\n",
        "    print(\"I can fly!\")\n",
        "\n",
        "class Swimmer:\n",
        "  def swim(self):\n",
        "    print(\"I can swim!\")\n",
        "\n",
        "class Duck(Flyer, Swimmer):\n",
        "  def quack(self):\n",
        "    print(\"Quack!\")\n",
        "\n",
        "my_duck = Duck()\n",
        "\n",
        "my_duck.fly()\n",
        "my_duck.swim()\n",
        "my_duck.quack()"
      ],
      "metadata": {
        "colab": {
          "base_uri": "https://localhost:8080/"
        },
        "id": "Rl1halGBWptB",
        "outputId": "2f912ad3-7297-444f-a801-cef2789473a5"
      },
      "execution_count": 16,
      "outputs": [
        {
          "output_type": "stream",
          "name": "stdout",
          "text": [
            "I can fly!\n",
            "I can swim!\n",
            "Quack!\n"
          ]
        }
      ]
    },
    {
      "cell_type": "markdown",
      "source": [
        "15. Demonstrate encapsulation using getter and setter."
      ],
      "metadata": {
        "id": "LT9QoXoNW5El"
      }
    },
    {
      "cell_type": "code",
      "source": [
        "class Student:\n",
        "  def __init__(self, name, age):\n",
        "    self._name = name\n",
        "    self._age = age\n",
        "\n",
        "  def get_name(self):\n",
        "    return self._name\n",
        "\n",
        "  def set_name(self, name):\n",
        "    self._name = name\n",
        "\n",
        "  def get_age(self):\n",
        "    return self._age\n",
        "\n",
        "  def set_age(self, age):\n",
        "    if age > 0:\n",
        "      self._age = age\n",
        "    else:\n",
        "      print(\"Age must be positive.\")\n",
        "\n",
        "student1 = Student(\"Manoj\", 18)\n",
        "\n",
        "print(f\"Initial Name: {student1.get_name()}\")\n",
        "print(f\"Initial Age: {student1.get_age()}\")\n",
        "\n",
        "student1.set_name(\"Manu\")\n",
        "student1.set_age(19)\n",
        "\n",
        "print(f\"Updated Name: {student1.get_name()}\")\n",
        "print(f\"Updated Age: {student1.get_age()}\")\n",
        "\n",
        "student1.set_age(-5)\n",
        "print(f\"Age after invalid attempt: {student1.get_age()}\")"
      ],
      "metadata": {
        "colab": {
          "base_uri": "https://localhost:8080/"
        },
        "id": "0-4XDMysW9mH",
        "outputId": "3a563d8a-b7a2-4d43-d43c-912985602fb4"
      },
      "execution_count": 17,
      "outputs": [
        {
          "output_type": "stream",
          "name": "stdout",
          "text": [
            "Initial Name: Manoj\n",
            "Initial Age: 18\n",
            "Updated Name: Manu\n",
            "Updated Age: 19\n",
            "Age must be positive.\n",
            "Age after invalid attempt: 19\n"
          ]
        }
      ]
    },
    {
      "cell_type": "markdown",
      "source": [
        "16. Write a program to demonstrate polymorphism with a common method."
      ],
      "metadata": {
        "id": "VZb5a0gUW72d"
      }
    },
    {
      "cell_type": "code",
      "source": [
        "class Animal:\n",
        "  def speak(self):\n",
        "    pass\n",
        "\n",
        "class Dog(Animal):\n",
        "  def speak(self):\n",
        "    print(\"Voaw!\")\n",
        "\n",
        "class Cat(Animal):\n",
        "  def speak(self):\n",
        "    print(\"Meow!\")\n",
        "\n",
        "class Duck(Animal):\n",
        "  def speak(self):\n",
        "    print(\"Quack!\")\n",
        "\n",
        "def make_animal_speak(animal):\n",
        "  animal.speak()\n",
        "\n",
        "dog_instance = Dog()\n",
        "cat_instance = Cat()\n",
        "duck_instance = Duck()\n",
        "\n",
        "make_animal_speak(dog_instance)\n",
        "make_animal_speak(cat_instance)\n",
        "make_animal_speak(duck_instance)"
      ],
      "metadata": {
        "colab": {
          "base_uri": "https://localhost:8080/"
        },
        "id": "668TBauzXR9R",
        "outputId": "f39a36c8-1ae4-4d46-f46e-c0d4715021e3"
      },
      "execution_count": 18,
      "outputs": [
        {
          "output_type": "stream",
          "name": "stdout",
          "text": [
            "Voaw!\n",
            "Meow!\n",
            "Quack!\n"
          ]
        }
      ]
    },
    {
      "cell_type": "markdown",
      "source": [
        "17. Create a class 'Employee' with a method to display the number of employees\n",
        "created."
      ],
      "metadata": {
        "id": "jvBckjMpW-LF"
      }
    },
    {
      "cell_type": "code",
      "source": [
        "class Employee:\n",
        "    employee_count = 0\n",
        "\n",
        "    def __init__(self, name, employee_id):\n",
        "        self.name = name\n",
        "        self.employee_id = employee_id\n",
        "        Employee.employee_count += 1\n",
        "\n",
        "    def display_employee_count(self):\n",
        "        print(f\"Total number of employees created: {Employee.employee_count}\")\n",
        "\n",
        "emp1 = Employee(\"Shakti swarupa\", \"E001\")\n",
        "emp2 = Employee(\"Reshma Sahoo\", \"E002\")\n",
        "\n",
        "emp1.display_employee_count()\n",
        "emp2.display_employee_count()"
      ],
      "metadata": {
        "colab": {
          "base_uri": "https://localhost:8080/"
        },
        "id": "UAs13dTiXalJ",
        "outputId": "d5abdfd6-5a1b-460b-8d7c-a5a55121c98c"
      },
      "execution_count": 25,
      "outputs": [
        {
          "output_type": "stream",
          "name": "stdout",
          "text": [
            "Total number of employees created: 2\n",
            "Total number of employees created: 2\n"
          ]
        }
      ]
    },
    {
      "cell_type": "markdown",
      "source": [
        "18. Demonstrate constructor overloading using default arguments."
      ],
      "metadata": {
        "id": "uLUIJIy3XAI9"
      }
    },
    {
      "cell_type": "code",
      "source": [
        "class Calculator:\n",
        "    def __init__(self, num1=0, num2=0):\n",
        "        self.num1 = num1\n",
        "        self.num2 = num2\n",
        "\n",
        "    def add(self):\n",
        "        return self.num1 + self.num2\n",
        "\n",
        "calc1 = Calculator()\n",
        "calc2 = Calculator(10)\n",
        "calc3 = Calculator(10, 20)\n",
        "\n",
        "print(f\"Sum for calc1: {calc1.add()}\")\n",
        "print(f\"Sum for calc2: {calc2.add()}\")\n",
        "print(f\"Sum for calc3: {calc3.add()}\")"
      ],
      "metadata": {
        "colab": {
          "base_uri": "https://localhost:8080/"
        },
        "id": "wK1BehddX52-",
        "outputId": "86dcd53d-6f37-4e5a-c9b5-69be4b5a8891"
      },
      "execution_count": 20,
      "outputs": [
        {
          "output_type": "stream",
          "name": "stdout",
          "text": [
            "Sum for calc1: 0\n",
            "Sum for calc2: 10\n",
            "Sum for calc3: 30\n"
          ]
        }
      ]
    },
    {
      "cell_type": "markdown",
      "source": [
        "19. Implement a bank account system with deposit and withdrawal methods."
      ],
      "metadata": {
        "id": "xNYCIr9yXEPF"
      }
    },
    {
      "cell_type": "code",
      "source": [
        "class BankAccount:\n",
        "  def __init__(self, account_number, initial_balance=0):\n",
        "    self.account_number = account_number\n",
        "    self.balance = initial_balance\n",
        "\n",
        "  def deposit(self, amount):\n",
        "    if amount > 0:\n",
        "      self.balance += amount\n",
        "      print(f\"Deposited {amount}. New balance is {self.balance}\")\n",
        "    else:\n",
        "      print(\"Deposit amount must be positive.\")\n",
        "\n",
        "  def withdraw(self, amount):\n",
        "    if amount > 0:\n",
        "      if self.balance >= amount:\n",
        "        self.balance -= amount\n",
        "        print(f\"Withdrew {amount}. New balance is {self.balance}\")\n",
        "      else:\n",
        "        print(\"Insufficient funds.\")\n",
        "    else:\n",
        "      print(\"Withdrawal amount must be positive.\")\n",
        "\n",
        "  def get_balance(self):\n",
        "    return self.balance\n",
        "\n",
        "account1 = BankAccount(\"12345\", 1000)\n",
        "account1.deposit(500)\n",
        "account1.withdraw(200)\n",
        "account1.withdraw(1500)\n",
        "print(f\"Current balance for account {account1.account_number}: {account1.get_balance()}\")"
      ],
      "metadata": {
        "colab": {
          "base_uri": "https://localhost:8080/"
        },
        "id": "tba1ujm3bUAG",
        "outputId": "ecd056a1-a211-467e-9d8c-1e503cdbaa1a"
      },
      "execution_count": 21,
      "outputs": [
        {
          "output_type": "stream",
          "name": "stdout",
          "text": [
            "Deposited 500. New balance is 1500\n",
            "Withdrew 200. New balance is 1300\n",
            "Insufficient funds.\n",
            "Current balance for account 12345: 1300\n"
          ]
        }
      ]
    },
    {
      "cell_type": "markdown",
      "source": [
        "20. Create a class 'Rectangle' with method to calculate area and perimeter."
      ],
      "metadata": {
        "id": "K1HCKNTzXGjl"
      }
    },
    {
      "cell_type": "code",
      "source": [
        "class Rectangle:\n",
        "    def __init__(self, length, width):\n",
        "        self.length = length\n",
        "        self.width = width\n",
        "\n",
        "    def calculate_area(self):\n",
        "        return self.length * self.width\n",
        "\n",
        "    def calculate_perimeter(self):\n",
        "        return 2 * (self.length + self.width)\n",
        "\n",
        "my_rectangle = Rectangle(5, 10)\n",
        "area = my_rectangle.calculate_area()\n",
        "perimeter = my_rectangle.calculate_perimeter()\n",
        "\n",
        "print(f\"The area of the rectangle is: {area}\")\n",
        "print(f\"The perimeter of the rectangle is: {perimeter}\")"
      ],
      "metadata": {
        "colab": {
          "base_uri": "https://localhost:8080/"
        },
        "id": "Y2Ei1no-bfzj",
        "outputId": "9410fab8-53c5-42c6-d6dd-657ee141cf1c"
      },
      "execution_count": 22,
      "outputs": [
        {
          "output_type": "stream",
          "name": "stdout",
          "text": [
            "The area of the rectangle is: 50\n",
            "The perimeter of the rectangle is: 30\n"
          ]
        }
      ]
    }
  ]
}