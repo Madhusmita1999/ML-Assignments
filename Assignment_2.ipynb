{
  "nbformat": 4,
  "nbformat_minor": 0,
  "metadata": {
    "colab": {
      "provenance": [],
      "authorship_tag": "ABX9TyMuTAgmaESl8DffSq4rUaXA"
    },
    "kernelspec": {
      "name": "python3",
      "display_name": "Python 3"
    },
    "language_info": {
      "name": "python"
    }
  },
  "cells": [
    {
      "cell_type": "markdown",
      "source": [
        "1. Write a function to check if a number is Prime."
      ],
      "metadata": {
        "id": "L6b4u3MSpDPT"
      }
    },
    {
      "cell_type": "code",
      "source": [
        "def prime(n):\n",
        " for i in range ( 2, n):\n",
        "  if n % i == 0:\n",
        "   return print (\"it is not prime\")\n",
        " return print (\"it is prime\")\n",
        "n = int(input (\"enter a number:\")"
      ],
      "metadata": {
        "colab": {
          "base_uri": "https://localhost:8080/"
        },
        "id": "Ic8N2QkypPiF",
        "outputId": "d7f36a12-8566-48f4-9e6e-eebcb85696fb"
      },
      "execution_count": null,
      "outputs": [
        {
          "output_type": "stream",
          "name": "stdout",
          "text": [
            "it is prime\n"
          ]
        }
      ]
    },
    {
      "cell_type": "markdown",
      "source": [
        "2. Create a function to calculate the area of a rectangle."
      ],
      "metadata": {
        "id": "qFamEOtQTyxf"
      }
    },
    {
      "cell_type": "code",
      "source": [
        "def rarea(l, w):\n",
        "  return l * w\n",
        "l = float(input(\"Enter the length of the rectangle: \"))\n",
        "w = float(input(\"Enter the width of the rectangle: \"))\n",
        "area = rarea(l, w)\n",
        "print(\"The area of the rectangle is:\", area)"
      ],
      "metadata": {
        "colab": {
          "base_uri": "https://localhost:8080/"
        },
        "id": "vBJRU9IxlrhN",
        "outputId": "b58a03cc-1a35-43c2-93cf-92911ad4480a"
      },
      "execution_count": null,
      "outputs": [
        {
          "output_type": "stream",
          "name": "stdout",
          "text": [
            "Enter the length of the rectangle: 5\n",
            "Enter the width of the rectangle: 3\n",
            "The area of the rectangle is: 15.0\n"
          ]
        }
      ]
    },
    {
      "cell_type": "markdown",
      "source": [
        "3. Create a function to find the maximum of three numbers."
      ],
      "metadata": {
        "id": "UoYjPBSBT3uO"
      }
    },
    {
      "cell_type": "code",
      "source": [
        "def maximum_of_three(a, b, c):\n",
        "  return max(a, b, c)\n",
        "\n",
        "num1 = 10\n",
        "num2 = 5\n",
        "num3 = 12\n",
        "max_num = maximum_of_three(num1, num2, num3)\n",
        "print(\"The maximum of\", num1, \",\", num2, \", and\", num3, \"is:\", max_num)\n"
      ],
      "metadata": {
        "colab": {
          "base_uri": "https://localhost:8080/"
        },
        "id": "jTk1wD28k8y1",
        "outputId": "3327eff7-6417-4acf-91e3-0dd56e94b7e8"
      },
      "execution_count": null,
      "outputs": [
        {
          "output_type": "stream",
          "name": "stdout",
          "text": [
            "The maximum of 10 , 5 , and 12 is: 12\n"
          ]
        }
      ]
    },
    {
      "cell_type": "markdown",
      "source": [
        "4. Write a function to reverse a string."
      ],
      "metadata": {
        "id": "tXui-P5AT719"
      }
    },
    {
      "cell_type": "code",
      "source": [
        "def reverse_string(s):\n",
        "  return s[::-1]\n",
        "my_string = \"hello\"\n",
        "reversed_string = reverse_string(my_string)\n",
        "print(f\"Original string: {my_string}\")\n",
        "print(f\"Reversed string: {reversed_string}\")\n"
      ],
      "metadata": {
        "colab": {
          "base_uri": "https://localhost:8080/"
        },
        "id": "t2pYF6TyOHDO",
        "outputId": "f9a37e1b-b825-4c6a-defa-b487d8eda5c1"
      },
      "execution_count": null,
      "outputs": [
        {
          "output_type": "stream",
          "name": "stdout",
          "text": [
            "Original string: hello\n",
            "Reversed string: olleh\n"
          ]
        }
      ]
    },
    {
      "cell_type": "markdown",
      "source": [
        "5. Create a function to count the number of vowels in a string."
      ],
      "metadata": {
        "id": "wdsvWijTT97V"
      }
    },
    {
      "cell_type": "code",
      "source": [
        "def count_vowels(s):\n",
        "  vowels = \"aeiouAEIOU\"\n",
        "  vowel_count = 0\n",
        "  for char in s:\n",
        "    if char in vowels:\n",
        "      vowel_count += 1\n",
        "  return vowel_count\n",
        "\n",
        "my_string = \"I am from India\"\n",
        "num_vowels = count_vowels(my_string)\n",
        "print(f\"The number of vowels in '{my_string}' is: {num_vowels}\")"
      ],
      "metadata": {
        "colab": {
          "base_uri": "https://localhost:8080/"
        },
        "id": "hKIyZ84wRaNH",
        "outputId": "5de6fa66-ec4f-4518-bd57-5a8a50f9b604"
      },
      "execution_count": null,
      "outputs": [
        {
          "output_type": "stream",
          "name": "stdout",
          "text": [
            "The number of vowels in 'I am from India' is: 6\n"
          ]
        }
      ]
    },
    {
      "cell_type": "markdown",
      "source": [
        "6. Write a function to check if a string is a palindrome."
      ],
      "metadata": {
        "id": "CQiXkS4CUAJG"
      }
    },
    {
      "cell_type": "code",
      "source": [
        "def is_palindrome(s):\n",
        "  cleaned_string = \"\".join(char.lower() for char in s if char.isalnum())\n",
        "  return cleaned_string == cleaned_string[::-1]\n",
        "my_string = \"Katak\"\n",
        "if is_palindrome(my_string):\n",
        "  print(f\"'{my_string}' is a palindrome.\")\n",
        "else:\n",
        "  print(f\"'{my_string}' is not a palindrome.\")\n",
        "\n",
        "my_string = \"Hello world\"\n",
        "if is_palindrome(my_string):\n",
        "  print(f\"'{my_string}' is a palindrome.\")\n",
        "else:\n",
        "  print(f\"'{my_string}' is not a palindrome.\")"
      ],
      "metadata": {
        "colab": {
          "base_uri": "https://localhost:8080/"
        },
        "id": "uGonStMeqlvw",
        "outputId": "46743ad9-a3a9-4bf7-c301-4f43e5f58d60"
      },
      "execution_count": null,
      "outputs": [
        {
          "output_type": "stream",
          "name": "stdout",
          "text": [
            "'Katak' is a palindrome.\n",
            "'Hello world' is not a palindrome.\n"
          ]
        }
      ]
    },
    {
      "cell_type": "markdown",
      "source": [
        "7. Create a function to calculate the sum of a list of numbers."
      ],
      "metadata": {
        "id": "Pb4MpMFRUHl9"
      }
    },
    {
      "cell_type": "code",
      "source": [
        "def calculate_sum(numbers):\n",
        "  return sum(numbers)\n",
        "\n",
        "my_list = [1, 2, 3, 4, 5]\n",
        "total_sum = calculate_sum(my_list)\n",
        "print(f\"The sum of the list {my_list} is: {total_sum}\")"
      ],
      "metadata": {
        "colab": {
          "base_uri": "https://localhost:8080/"
        },
        "id": "JkTxMXwVvM4_",
        "outputId": "cb9471c3-14cf-406b-ea3b-8c3d5529349a"
      },
      "execution_count": null,
      "outputs": [
        {
          "output_type": "stream",
          "name": "stdout",
          "text": [
            "The sum of the list [1, 2, 3, 4, 5] is: 15\n"
          ]
        }
      ]
    },
    {
      "cell_type": "markdown",
      "source": [
        "8. Write a function to return the Fibonacci sequence up to n terms."
      ],
      "metadata": {
        "id": "CxLJ5pncUJS9"
      }
    },
    {
      "cell_type": "code",
      "source": [
        "def fibonacci_sequence(n):\n",
        "  if n <= 0:\n",
        "    return []\n",
        "  elif n == 1:\n",
        "    return [0]\n",
        "  else:\n",
        "    sequence = [0, 1]\n",
        "    while len(sequence) < n:\n",
        "      next_term = sequence[-1] + sequence[-2]\n",
        "      sequence.append(next_term)\n",
        "    return sequence\n",
        "n_terms = 10\n",
        "fib_sequence = fibonacci_sequence(n_terms)\n",
        "print(f\"The Fibonacci sequence up to {n_terms} terms is: {fib_sequence}\")"
      ],
      "metadata": {
        "colab": {
          "base_uri": "https://localhost:8080/"
        },
        "id": "SXeuBzUWttmS",
        "outputId": "b91a0837-2a59-4946-ffd4-e994bd5fab99"
      },
      "execution_count": null,
      "outputs": [
        {
          "output_type": "stream",
          "name": "stdout",
          "text": [
            "The Fibonacci sequence up to 10 terms is: [0, 1, 1, 2, 3, 5, 8, 13, 21, 34]\n"
          ]
        }
      ]
    },
    {
      "cell_type": "markdown",
      "source": [
        "9. Write a function to convert Celsius to Fahrenheit."
      ],
      "metadata": {
        "id": "yzEQkADVULK1"
      }
    },
    {
      "cell_type": "code",
      "source": [
        "def celsius_to_fahrenheit(celsius):\n",
        "  fahrenheit = (celsius * 9/5) + 32\n",
        "  return fahrenheit\n",
        "celsius_temp = 25\n",
        "fahrenheit_temp = celsius_to_fahrenheit(celsius_temp)\n",
        "print(f\"{celsius_temp} degrees Celsius is equal to {fahrenheit_temp} degrees Fahrenheit.\")"
      ],
      "metadata": {
        "colab": {
          "base_uri": "https://localhost:8080/"
        },
        "id": "JiwzGBlIvsfk",
        "outputId": "531d38b0-08d3-48de-b7c2-142d5d3b31ac"
      },
      "execution_count": null,
      "outputs": [
        {
          "output_type": "stream",
          "name": "stdout",
          "text": [
            "25 degrees Celsius is equal to 77.0 degrees Fahrenheit.\n"
          ]
        }
      ]
    },
    {
      "cell_type": "markdown",
      "source": [
        "10. Write a function to find the minimum value in a list."
      ],
      "metadata": {
        "id": "6HsfNtpGUOM2"
      }
    },
    {
      "cell_type": "code",
      "source": [
        "def find_minimum(numbers):\n",
        "  if not numbers:\n",
        "    return None  # Return None for an empty list\n",
        "  minimum = numbers[0]\n",
        "  for number in numbers:\n",
        "    if number < minimum:\n",
        "      minimum = number\n",
        "  return minimum\n",
        "\n",
        "my_list = [5, 2, 8, 1, 9]\n",
        "minimum_value = find_minimum(my_list)\n",
        "print(f\"The minimum value in the list {my_list} is: {minimum_value}\")"
      ],
      "metadata": {
        "colab": {
          "base_uri": "https://localhost:8080/"
        },
        "id": "Fs-zay2dv1T1",
        "outputId": "15fba693-68f7-461e-9b2d-412c6cac4850"
      },
      "execution_count": null,
      "outputs": [
        {
          "output_type": "stream",
          "name": "stdout",
          "text": [
            "The minimum value in the list [5, 2, 8, 1, 9] is: 1\n"
          ]
        }
      ]
    },
    {
      "cell_type": "markdown",
      "source": [
        "11. Create a function to count how many times a character appears in a string."
      ],
      "metadata": {
        "id": "8slHY5W7UQV1"
      }
    },
    {
      "cell_type": "code",
      "source": [
        "def count_character_occurrence(s, char):\n",
        "  count = 0\n",
        "  for c in s:\n",
        "    if c == char:\n",
        "      count += 1\n",
        "  return count\n",
        "\n",
        "my_string = \"I am an Indian\"\n",
        "character_to_count = 'a'\n",
        "occurrence_count = count_character_occurrence(my_string, character_to_count)\n",
        "print(f\"The character '{character_to_count}' appears {occurrence_count} times in '{my_string}'.\")"
      ],
      "metadata": {
        "colab": {
          "base_uri": "https://localhost:8080/"
        },
        "id": "vgOu1VmkwJ0h",
        "outputId": "7f074b25-3bba-4d57-fb2a-100824a54a2d"
      },
      "execution_count": null,
      "outputs": [
        {
          "output_type": "stream",
          "name": "stdout",
          "text": [
            "The character 'a' appears 3 times in 'I am an Indian'.\n"
          ]
        }
      ]
    },
    {
      "cell_type": "markdown",
      "source": [
        "12. Write a function to check if a number is a perfect number."
      ],
      "metadata": {
        "id": "YP-pk0EdUSjd"
      }
    },
    {
      "cell_type": "code",
      "source": [
        "def is_perfect_number(n):\n",
        "  if n <= 0:\n",
        "    return False\n",
        "  sum_of_divisors = 0\n",
        "  for i in range(1, n):\n",
        "    if n % i == 0:\n",
        "      sum_of_divisors += i\n",
        "  return sum_of_divisors == n\n",
        "\n",
        "number_to_check = 28\n",
        "if is_perfect_number(number_to_check):\n",
        "  print(f\"{number_to_check} is a perfect number.\")\n",
        "else:\n",
        "  print(f\"{number_to_check} is not a perfect number.\")\n",
        "\n",
        "number_to_check = 12\n",
        "if is_perfect_number(number_to_check):\n",
        "  print(f\"{number_to_check} is a perfect number.\")\n",
        "else:\n",
        "  print(f\"{number_to_check} is not a perfect number.\")"
      ],
      "metadata": {
        "colab": {
          "base_uri": "https://localhost:8080/"
        },
        "id": "8qVnkRobwbDi",
        "outputId": "287644da-77b2-495e-b544-635e7295913b"
      },
      "execution_count": null,
      "outputs": [
        {
          "output_type": "stream",
          "name": "stdout",
          "text": [
            "28 is a perfect number.\n",
            "12 is not a perfect number.\n"
          ]
        }
      ]
    },
    {
      "cell_type": "markdown",
      "source": [
        "13. Create a function to find the sum of digits of a number"
      ],
      "metadata": {
        "id": "5wspAauiUUjV"
      }
    },
    {
      "cell_type": "code",
      "source": [
        "def sum_of_digits(n):\n",
        "  s = 0\n",
        "  while n > 0:\n",
        "    digit = n % 10\n",
        "    s += digit\n",
        "    n //= 10\n",
        "  return s\n",
        "\n",
        "number_to_sum_digits = 12345\n",
        "digit_sum = sum_of_digits(number_to_sum_digits)\n",
        "print(f\"The sum of the digits of {number_to_sum_digits} is: {digit_sum}\")"
      ],
      "metadata": {
        "colab": {
          "base_uri": "https://localhost:8080/"
        },
        "id": "0dlRMPAXxM-P",
        "outputId": "99289410-87ab-432e-a0a0-dd069e83ad66"
      },
      "execution_count": null,
      "outputs": [
        {
          "output_type": "stream",
          "name": "stdout",
          "text": [
            "The sum of the digits of 12345 is: 15\n"
          ]
        }
      ]
    },
    {
      "cell_type": "markdown",
      "source": [
        "14. Write a function that takes a string and returns a dictionary of character frequencies."
      ],
      "metadata": {
        "id": "SoMeQqk2UWjO"
      }
    },
    {
      "cell_type": "code",
      "source": [
        "def character_frequency(input_string):\n",
        "  freq_dict = {}\n",
        "  for char in input_string:\n",
        "    freq_dict[char] = freq_dict.get(char, 0) + 1\n",
        "  return freq_dict\n",
        "\n",
        "my_string = \"I am an Indian\"\n",
        "frequency_dict = character_frequency(my_string)\n",
        "print(f\"Character frequencies in '{my_string}': {frequency_dict}\")"
      ],
      "metadata": {
        "colab": {
          "base_uri": "https://localhost:8080/"
        },
        "id": "dylKkfebx9_B",
        "outputId": "2fddaf77-9d30-41d6-a89c-aee3f99df971"
      },
      "execution_count": null,
      "outputs": [
        {
          "output_type": "stream",
          "name": "stdout",
          "text": [
            "Character frequencies in 'I am an Indian': {'I': 2, ' ': 3, 'a': 3, 'm': 1, 'n': 3, 'd': 1, 'i': 1}\n"
          ]
        }
      ]
    },
    {
      "cell_type": "markdown",
      "source": [
        "15. Write a function that returns the average of a list of numbers."
      ],
      "metadata": {
        "id": "nbCNKV0rUZB9"
      }
    },
    {
      "cell_type": "code",
      "source": [
        "def calculate_average(numbers):\n",
        "  if not numbers:\n",
        "    return 0\n",
        "  return sum(numbers) / len(numbers)\n",
        "\n",
        "my_list = [10, 20, 30, 40, 50]\n",
        "average_value = calculate_average(my_list)\n",
        "print(f\"The average of the list {my_list} is: {average_value}\")\n",
        "\n",
        "my_list_empty = []\n",
        "average_value_empty = calculate_average(my_list_empty)\n",
        "print(f\"The average of the empty list is: {average_value_empty}\")"
      ],
      "metadata": {
        "colab": {
          "base_uri": "https://localhost:8080/"
        },
        "id": "4RkEpAPYyWvg",
        "outputId": "4641433f-3180-404b-a6bc-33d722ecd976"
      },
      "execution_count": null,
      "outputs": [
        {
          "output_type": "stream",
          "name": "stdout",
          "text": [
            "The average of the list [10, 20, 30, 40, 50] is: 30.0\n",
            "The average of the empty list is: 0\n"
          ]
        }
      ]
    },
    {
      "cell_type": "markdown",
      "source": [
        "16. Create a function that accepts a number and prints its multiplication table."
      ],
      "metadata": {
        "id": "q1ixOblHUbjm"
      }
    },
    {
      "cell_type": "code",
      "source": [
        "def multiplication_table(number):\n",
        "  for i in range(1, 11):\n",
        "    print(f\"{number} x {i} = {number * i}\")\n",
        "num_to_multiply = 12\n",
        "multiplication_table(num_to_multiply)"
      ],
      "metadata": {
        "colab": {
          "base_uri": "https://localhost:8080/"
        },
        "id": "fL3Cy9MmzLI2",
        "outputId": "17d99810-ad8b-4755-b1ed-396f0a387c05"
      },
      "execution_count": null,
      "outputs": [
        {
          "output_type": "stream",
          "name": "stdout",
          "text": [
            "12 x 1 = 12\n",
            "12 x 2 = 24\n",
            "12 x 3 = 36\n",
            "12 x 4 = 48\n",
            "12 x 5 = 60\n",
            "12 x 6 = 72\n",
            "12 x 7 = 84\n",
            "12 x 8 = 96\n",
            "12 x 9 = 108\n",
            "12 x 10 = 120\n"
          ]
        }
      ]
    },
    {
      "cell_type": "markdown",
      "source": [
        "17. Write a function that accepts a list and returns the list in reverse order."
      ],
      "metadata": {
        "id": "h6aku-R0Uedd"
      }
    },
    {
      "cell_type": "code",
      "source": [
        "def reverse_list(input_list):\n",
        "  return input_list[::-1]\n",
        "my_list = [1, 2, 3, 4, 5]\n",
        "reversed_list = reverse_list(my_list)\n",
        "print(f\"Original list: {my_list}\")\n",
        "print(f\"Reversed list: {reversed_list}\")"
      ],
      "metadata": {
        "colab": {
          "base_uri": "https://localhost:8080/"
        },
        "id": "um-mcSvizd28",
        "outputId": "e9dba3ea-f344-49eb-87c3-ffbc4183e0aa"
      },
      "execution_count": null,
      "outputs": [
        {
          "output_type": "stream",
          "name": "stdout",
          "text": [
            "Original list: [1, 2, 3, 4, 5]\n",
            "Reversed list: [5, 4, 3, 2, 1]\n"
          ]
        }
      ]
    },
    {
      "cell_type": "markdown",
      "source": [
        "18. Write a function to find the second largest number in a list."
      ],
      "metadata": {
        "id": "5bxIrRU4UgWt"
      }
    },
    {
      "cell_type": "code",
      "source": [
        "def find_second_largest(numbers):\n",
        "  if len(numbers) < 2:\n",
        "    return \"List must contains at least two numbers.\"\n",
        "  sorted_numbers = sorted(numbers, reverse=True)\n",
        "  return sorted_numbers[1]\n",
        "\n",
        "my_list = [5, 2, 8, 1, 9, 3]\n",
        "second_largest = find_second_largest(my_list)\n",
        "print(f\"The second largest number in the list {my_list} is: {second_largest}\")\n",
        "\n",
        "my_list_short = [10]\n",
        "second_largest_short = find_second_largest(my_list_short)\n",
        "second_largest_short"
      ],
      "metadata": {
        "colab": {
          "base_uri": "https://localhost:8080/",
          "height": 90
        },
        "id": "ooqlMZXOz0de",
        "outputId": "1eba4187-cd41-468c-ad4a-36938b529e8b"
      },
      "execution_count": null,
      "outputs": [
        {
          "output_type": "stream",
          "name": "stdout",
          "text": [
            "The second largest number in the list [5, 2, 8, 1, 9, 3] is: 8\n"
          ]
        },
        {
          "output_type": "execute_result",
          "data": {
            "text/plain": [
              "'List must contains at least two numbers.'"
            ],
            "application/vnd.google.colaboratory.intrinsic+json": {
              "type": "string"
            }
          },
          "metadata": {},
          "execution_count": 41
        }
      ]
    },
    {
      "cell_type": "markdown",
      "source": [
        "19. Create a function that accepts a list of integers and returns only the even ones."
      ],
      "metadata": {
        "id": "UroDoztUUizl"
      }
    },
    {
      "cell_type": "code",
      "source": [
        "def get_even_numbers(numbers):\n",
        "  even_numbers = [num for num in numbers if num % 2 == 0]\n",
        "  return even_numbers\n",
        "\n",
        "my_list = [1, 2, 3, 4, 5, 6, 7, 8, 9, 10]\n",
        "even_nums = get_even_numbers(my_list)\n",
        "print(f\"Original list: {my_list}\")\n",
        "print(f\"Even numbers: {even_nums}\")\n",
        "\n",
        "my_list_2 = [11, 13, 15, 17]\n",
        "even_nums_2 = get_even_numbers(my_list_2)\n",
        "print(f\"Original list: {my_list_2}\")\n",
        "print(f\"Even numbers: {even_nums_2}\")"
      ],
      "metadata": {
        "colab": {
          "base_uri": "https://localhost:8080/"
        },
        "id": "HuG63ZN30GsQ",
        "outputId": "5aacb97e-4a9c-4aad-f84f-d11529ca0e5b"
      },
      "execution_count": null,
      "outputs": [
        {
          "output_type": "stream",
          "name": "stdout",
          "text": [
            "Original list: [1, 2, 3, 4, 5, 6, 7, 8, 9, 10]\n",
            "Even numbers: [2, 4, 6, 8, 10]\n",
            "Original list: [11, 13, 15, 17]\n",
            "Even numbers: []\n"
          ]
        }
      ]
    },
    {
      "cell_type": "markdown",
      "source": [
        "20. Write a function to check if all characters in a string are unique."
      ],
      "metadata": {
        "id": "eVqbNL_eUlxt"
      }
    },
    {
      "cell_type": "code",
      "source": [
        "def all_unique_characters(s):\n",
        "  return len(set(s)) == len(s)\n",
        "\n",
        "my_string = \"hello\"\n",
        "if all_unique_characters(my_string):\n",
        "  print(f\"'{my_string}' has all unique characters.\")\n",
        "else:\n",
        "  print(f\"'{my_string}' does not have all unique characters.\")\n",
        "\n",
        "my_string = \"world\"\n",
        "if all_unique_characters(my_string):\n",
        "  print(f\"'{my_string}' has all unique characters.\")\n",
        "else:\n",
        "  print(f\"'{my_string}' does not have all unique characters.\")"
      ],
      "metadata": {
        "colab": {
          "base_uri": "https://localhost:8080/"
        },
        "id": "dbG9FGXx0X79",
        "outputId": "c34a6c90-2bcd-475b-c77d-cc5ef502646f"
      },
      "execution_count": null,
      "outputs": [
        {
          "output_type": "stream",
          "name": "stdout",
          "text": [
            "'hello' does not have all unique characters.\n",
            "'world' has all unique characters.\n"
          ]
        }
      ]
    },
    {
      "cell_type": "markdown",
      "source": [
        "21. Create a function to calculate the greatest common divisor (GCD) of two numbers.\n"
      ],
      "metadata": {
        "id": "yDk8OhQfUo71"
      }
    },
    {
      "cell_type": "code",
      "source": [
        "def calculate_gcd(a, b):\n",
        "  while b:\n",
        "    a, b = b, a % b\n",
        "  return a\n",
        "num1 = 48\n",
        "num2 = 18\n",
        "gcd = calculate_gcd(num1, num2)\n",
        "print(f\"The GCD of {num1} and {num2} is: {gcd}\")"
      ],
      "metadata": {
        "colab": {
          "base_uri": "https://localhost:8080/"
        },
        "id": "uQ-1PVZU0qxU",
        "outputId": "4dd8d1b1-623a-49ab-c3fc-4743223daf1e"
      },
      "execution_count": null,
      "outputs": [
        {
          "output_type": "stream",
          "name": "stdout",
          "text": [
            "The GCD of 48 and 18 is: 6\n"
          ]
        }
      ]
    },
    {
      "cell_type": "markdown",
      "source": [
        "22. Write a function to find the least common multiple (LCM) of two numbers."
      ],
      "metadata": {
        "id": "tUg-M7tXUrsd"
      }
    },
    {
      "cell_type": "code",
      "source": [
        "def calculate_lcm(a, b):\n",
        "  lcm = (a * b) // gcd\n",
        "  return lcm\n",
        "\n",
        "num1 = 12\n",
        "num2 = 18\n",
        "lcm = calculate_lcm(num1, num2)\n",
        "print(f\"The LCM of {num1} and {num2} is: {lcm}\")"
      ],
      "metadata": {
        "colab": {
          "base_uri": "https://localhost:8080/"
        },
        "id": "qGMP4EpT2Tea",
        "outputId": "75810e27-c12a-4794-87ff-4e401afe78bd"
      },
      "execution_count": null,
      "outputs": [
        {
          "output_type": "stream",
          "name": "stdout",
          "text": [
            "The LCM of 12 and 18 is: 36\n"
          ]
        }
      ]
    },
    {
      "cell_type": "markdown",
      "source": [
        "23. Create a function to remove duplicates from a list."
      ],
      "metadata": {
        "id": "QZsEQH7wUt4V"
      }
    },
    {
      "cell_type": "code",
      "source": [
        "def remove_duplicates(input_list):\n",
        "  return list(set(input_list))\n",
        "\n",
        "my_list= ['apple', 'banana', 'apple', 'orange', 'banana']\n",
        "list_without_duplicates = remove_duplicates(my_list)\n",
        "print(f\"Original list: {my_list}\")\n",
        "print(f\"List with duplicates removed: {list_without_duplicates}\")"
      ],
      "metadata": {
        "colab": {
          "base_uri": "https://localhost:8080/"
        },
        "id": "ReKCC5L_3W4v",
        "outputId": "4ffe978e-acbd-4415-cc5c-d1a6f2520b78"
      },
      "execution_count": null,
      "outputs": [
        {
          "output_type": "stream",
          "name": "stdout",
          "text": [
            "Original list: ['apple', 'banana', 'apple', 'orange', 'banana']\n",
            "List with duplicates removed: ['orange', 'apple', 'banana']\n"
          ]
        }
      ]
    },
    {
      "cell_type": "markdown",
      "source": [
        "24. Write a recursive function to compute the factorial of a number."
      ],
      "metadata": {
        "id": "XRm_QMoBUwrd"
      }
    },
    {
      "cell_type": "code",
      "source": [
        "def recursive_factorial(n):\n",
        "  if n == 0 or n == 1:\n",
        "    return 1\n",
        "  else:\n",
        "    return n * recursive_factorial(n-1)\n",
        "\n",
        "num = 5\n",
        "factorial_result = recursive_factorial(num)\n",
        "print(f\"The factorial of {num} is: {factorial_result}\")"
      ],
      "metadata": {
        "colab": {
          "base_uri": "https://localhost:8080/"
        },
        "id": "OZzyaXkP-frC",
        "outputId": "eadc050f-7857-4068-f7c5-291e1adfc1de"
      },
      "execution_count": null,
      "outputs": [
        {
          "output_type": "stream",
          "name": "stdout",
          "text": [
            "The factorial of 5 is: 120\n"
          ]
        }
      ]
    },
    {
      "cell_type": "markdown",
      "source": [
        "25. Create a function that checks if a number is an Armstrong number."
      ],
      "metadata": {
        "id": "d-vMG7PjUykd"
      }
    },
    {
      "cell_type": "code",
      "source": [
        "def is_armstrong_number(number):\n",
        "  num_str = str(number)\n",
        "  num_digits = len(num_str)\n",
        "  armstrong_sum = 0\n",
        "  for digit in num_str:\n",
        "    armstrong_sum += int(digit) ** num_digits\n",
        "  return armstrong_sum == number\n",
        "\n",
        "number_to_check = 153\n",
        "if is_armstrong_number(number_to_check):\n",
        "  print(f\"{number_to_check} is an Armstrong number.\")\n",
        "else:\n",
        "  print(f\"{number_to_check} is not an Armstrong number.\")\n",
        "\n",
        "number_to_check = 123\n",
        "if is_armstrong_number(number_to_check):\n",
        "  print(f\"{number_to_check} is an Armstrong number.\")\n",
        "else:\n",
        "  print(f\"{number_to_check} is not an Armstrong number.\")"
      ],
      "metadata": {
        "colab": {
          "base_uri": "https://localhost:8080/"
        },
        "id": "rOQ_Zmph-6LT",
        "outputId": "0b0a9716-7dca-4d60-da9d-06471d8e4bcc"
      },
      "execution_count": null,
      "outputs": [
        {
          "output_type": "stream",
          "name": "stdout",
          "text": [
            "153 is an Armstrong number.\n",
            "123 is not an Armstrong number.\n"
          ]
        }
      ]
    },
    {
      "cell_type": "markdown",
      "source": [
        "26. Write a function that returns all prime numbers up to n."
      ],
      "metadata": {
        "id": "ZV2_C7xeU0rl"
      }
    },
    {
      "cell_type": "code",
      "source": [
        "def get_primes_up_to_n(n):\n",
        "  primes = []\n",
        "  for num in range(2, n + 1):\n",
        "    is_prime = True\n",
        "    for i in range(2, int(num**0.5) + 1):\n",
        "      if num % i == 0:\n",
        "        is_prime = False\n",
        "        break\n",
        "    if is_prime:\n",
        "      primes.append(num)\n",
        "  return primes\n",
        "n_limit = 20\n",
        "prime_numbers = get_primes_up_to_n(n_limit)\n",
        "print(f\"Prime numbers up to {n_limit}: {prime_numbers}\")"
      ],
      "metadata": {
        "colab": {
          "base_uri": "https://localhost:8080/"
        },
        "id": "I2YO-nmm_QnR",
        "outputId": "e466efdc-b468-4058-e710-85718d6d480f"
      },
      "execution_count": null,
      "outputs": [
        {
          "output_type": "stream",
          "name": "stdout",
          "text": [
            "Prime numbers up to 20: [2, 3, 5, 7, 11, 13, 17, 19]\n"
          ]
        }
      ]
    },
    {
      "cell_type": "markdown",
      "source": [
        "27. Create a function that accepts a sentence and returns the longest word."
      ],
      "metadata": {
        "id": "p4cLz1WNU3Bd"
      }
    },
    {
      "cell_type": "code",
      "source": [
        "def find_longest_word(sentence):\n",
        "  words = sentence.split()\n",
        "  longest_word = \"\"\n",
        "  for word in words:\n",
        "    cleaned_word = ''.join(filter(str.isalnum, word)) # Remove punctuation\n",
        "    if len(cleaned_word) > len(longest_word):\n",
        "      longest_word = cleaned_word\n",
        "  return longest_word\n",
        "\n",
        "my_sentence = \"This is a sentence with some really long words!\"\n",
        "longest = find_longest_word(my_sentence)\n",
        "print(f\"The longest word in '{my_sentence}' is: {longest}\")\n",
        "\n",
        "my_sentence_2 = \"Short sentence.\"\n",
        "longest_2 = find_longest_word(my_sentence_2)\n",
        "print(f\"The longest word in '{my_sentence_2}' is: {longest_2}\")"
      ],
      "metadata": {
        "colab": {
          "base_uri": "https://localhost:8080/"
        },
        "id": "4FxMoqwd_aTJ",
        "outputId": "6e4e4f8f-71d3-4cd3-a0b5-0e219895bf05"
      },
      "execution_count": null,
      "outputs": [
        {
          "output_type": "stream",
          "name": "stdout",
          "text": [
            "The longest word in 'This is a sentence with some really long words!' is: sentence\n",
            "The longest word in 'Short sentence.' is: sentence\n"
          ]
        }
      ]
    },
    {
      "cell_type": "markdown",
      "source": [
        "28. Write a function to compute the power of a number using recursion."
      ],
      "metadata": {
        "id": "aVOJ75s6U5EN"
      }
    },
    {
      "cell_type": "code",
      "source": [
        "def recursive_power(base, exponent):\n",
        "  if exponent == 0:\n",
        "    return 1\n",
        "  elif exponent < 0:\n",
        "    return 1 / recursive_power(base, -exponent)\n",
        "  else:\n",
        "    return base * recursive_power(base, exponent - 1)\n",
        "\n",
        "base_num = 2\n",
        "exponent_num = 5\n",
        "power_result = recursive_power(base_num, exponent_num)\n",
        "print(f\"{base_num} raised to the power of {exponent_num} is: {power_result}\")\n",
        "\n",
        "base_num = 3\n",
        "exponent_num = 0\n",
        "power_result = recursive_power(base_num, exponent_num)\n",
        "print(f\"{base_num} raised to the power of {exponent_num} is: {power_result}\")\n",
        "\n",
        "base_num = 4\n",
        "exponent_num = -2\n",
        "power_result = recursive_power(base_num, exponent_num)\n",
        "print(f\"{base_num} raised to the power of {exponent_num} is: {power_result}\")"
      ],
      "metadata": {
        "colab": {
          "base_uri": "https://localhost:8080/"
        },
        "id": "PWJtpEd1_nEB",
        "outputId": "b620a48f-2537-4a63-b61c-4b4b03deb09e"
      },
      "execution_count": null,
      "outputs": [
        {
          "output_type": "stream",
          "name": "stdout",
          "text": [
            "2 raised to the power of 5 is: 32\n",
            "3 raised to the power of 0 is: 1\n",
            "4 raised to the power of -2 is: 0.0625\n"
          ]
        }
      ]
    },
    {
      "cell_type": "markdown",
      "source": [
        "29. Create a function that flattens a nested list."
      ],
      "metadata": {
        "id": "qDbNW3JRU7Jl"
      }
    },
    {
      "cell_type": "code",
      "source": [
        "def flatten_list(nested_list):\n",
        "  flattened = []\n",
        "  for item in nested_list:\n",
        "    if isinstance(item, list):\n",
        "      flattened.extend(flatten_list(item))\n",
        "    else:\n",
        "      flattened.append(item)\n",
        "  return flattened\n",
        "\n",
        "my_nested_list = [1, [2, 3], [4, [5, 6]], 7, 8, [9]]\n",
        "flat_list = flatten_list(my_nested_list)\n",
        "print(f\"Original nested list: {my_nested_list}\")\n",
        "print(f\"Flattened list: {flat_list}\")"
      ],
      "metadata": {
        "colab": {
          "base_uri": "https://localhost:8080/"
        },
        "id": "hMefWR5z_4gt",
        "outputId": "ca73a3e9-8384-4ff5-dc23-70edeefd67cd"
      },
      "execution_count": null,
      "outputs": [
        {
          "output_type": "stream",
          "name": "stdout",
          "text": [
            "Original nested list: [1, [2, 3], [4, [5, 6]], 7, 8, [9]]\n",
            "Flattened list: [1, 2, 3, 4, 5, 6, 7, 8, 9]\n"
          ]
        }
      ]
    },
    {
      "cell_type": "markdown",
      "source": [
        "30. Write a function to check if a list is sorted."
      ],
      "metadata": {
        "id": "0IfGJOQAU9A1"
      }
    },
    {
      "cell_type": "code",
      "source": [
        "def is_list_sorted(input_list):\n",
        "  return all(input_list[i] <= input_list[i+1] for i in range(len(input_list)-1))\n",
        "\n",
        "my_list_sorted = [1, 2, 3, 4, 5]\n",
        "print(f\"Is {my_list_sorted} sorted? {is_list_sorted(my_list_sorted)}\")\n",
        "\n",
        "my_list_unsorted = [5, 2, 8, 1, 9]\n",
        "print(f\"Is {my_list_unsorted} sorted? {is_list_sorted(my_list_unsorted)}\")"
      ],
      "metadata": {
        "colab": {
          "base_uri": "https://localhost:8080/"
        },
        "id": "F47pFfNzAPmR",
        "outputId": "8b0553a8-e265-44e1-bc8f-34f6b3de5102"
      },
      "execution_count": null,
      "outputs": [
        {
          "output_type": "stream",
          "name": "stdout",
          "text": [
            "Is [1, 2, 3, 4, 5] sorted? True\n",
            "Is [5, 2, 8, 1, 9] sorted? False\n"
          ]
        }
      ]
    },
    {
      "cell_type": "markdown",
      "source": [
        "31. Create a function to merge two sorted lists into one sorted list."
      ],
      "metadata": {
        "id": "Z8FyIzYXVATN"
      }
    },
    {
      "cell_type": "code",
      "source": [
        "def merge_sorted_lists(list1, list2):\n",
        "  merged_list = []\n",
        "  i, j = 0, 0\n",
        "  while i < len(list1) and j < len(list2):\n",
        "    if list1[i] < list2[j]:\n",
        "      merged_list.append(list1[i])\n",
        "      i += 1\n",
        "    else:\n",
        "      merged_list.append(list2[j])\n",
        "      j += 1\n",
        "  merged_list.extend(list1[i:])\n",
        "  merged_list.extend(list2[j:])\n",
        "  return merged_list\n",
        "\n",
        "list_a = [1, 3, 5, 7]\n",
        "list_b = [2, 4, 6, 8]\n",
        "merged = merge_sorted_lists(list_a, list_b)\n",
        "print(f\"Merged list of {list_a} and {list_b}: {merged}\")\n",
        "\n",
        "list_c = [10, 20]\n",
        "list_d = [5, 15, 25, 35]\n",
        "merged_2 = merge_sorted_lists(list_c, list_d)\n",
        "print(f\"Merged list of {list_c} and {list_d}: {merged_2}\")"
      ],
      "metadata": {
        "colab": {
          "base_uri": "https://localhost:8080/"
        },
        "id": "_Bt3Fd_xAmUw",
        "outputId": "69b17d3d-b992-44e1-e8b1-3af6dd4c1a6d"
      },
      "execution_count": null,
      "outputs": [
        {
          "output_type": "stream",
          "name": "stdout",
          "text": [
            "Merged list of [1, 3, 5, 7] and [2, 4, 6, 8]: [1, 2, 3, 4, 5, 6, 7, 8]\n",
            "Merged list of [10, 20] and [5, 15, 25, 35]: [5, 10, 15, 20, 25, 35]\n"
          ]
        }
      ]
    },
    {
      "cell_type": "markdown",
      "source": [
        "32. Write a function to find the most frequent element in a list."
      ],
      "metadata": {
        "id": "8m92GKW3VBX1"
      }
    },
    {
      "cell_type": "code",
      "source": [
        "from collections import Counter\n",
        "\n",
        "def most_frequent_element(input_list):\n",
        "  if not input_list:\n",
        "    return None\n",
        "  counts = Counter(input_list)\n",
        "  most_common = counts.most_common(1)\n",
        "  return most_common[0][0]\n",
        "\n",
        "my_list = [1, 2, 2, 3, 1, 4, 2, 5, 2]\n",
        "most_frequent = most_frequent_element(my_list)\n",
        "print(f\"The most frequent element in {my_list} is: {most_frequent}\")\n",
        "\n",
        "my_list_2 = ['apple', 'banana', 'apple', 'orange', 'banana', 'apple']\n",
        "most_frequent_2 = most_frequent_element(my_list_2)\n",
        "print(f\"The most frequent element in {my_list_2} is: {most_frequent_2}\")"
      ],
      "metadata": {
        "colab": {
          "base_uri": "https://localhost:8080/"
        },
        "id": "RbmRMM0xA4cd",
        "outputId": "4de97c9e-bf30-4658-a1e8-40afc01ea512"
      },
      "execution_count": null,
      "outputs": [
        {
          "output_type": "stream",
          "name": "stdout",
          "text": [
            "The most frequent element in [1, 2, 2, 3, 1, 4, 2, 5, 2] is: 2\n",
            "The most frequent element in ['apple', 'banana', 'apple', 'orange', 'banana', 'apple'] is: apple\n"
          ]
        }
      ]
    },
    {
      "cell_type": "markdown",
      "source": [
        "33. Create a function that returns the median of a list."
      ],
      "metadata": {
        "id": "6TJ3xIRqVDRt"
      }
    },
    {
      "cell_type": "code",
      "source": [
        "def find_median(numbers):\n",
        "  if not numbers:\n",
        "    return None\n",
        "\n",
        "  sorted_numbers = sorted(numbers)\n",
        "  n = len(sorted_numbers)\n",
        "\n",
        "  if n % 2 == 1:\n",
        "    median_index = n // 2\n",
        "    return sorted_numbers[median_index]\n",
        "  else:\n",
        "    middle_right_index = n // 2\n",
        "    middle_left_index = middle_right_index - 1\n",
        "    return (sorted_numbers[middle_left_index] + sorted_numbers[middle_right_index]) / 2\n",
        "\n",
        "my_list_odd = [1, 3, 2, 5, 4]\n",
        "median_odd = find_median(my_list_odd)\n",
        "print(f\"The median of {my_list_odd} is: {median_odd}\")\n",
        "\n",
        "my_list_even = [1, 3, 2, 5, 4, 6]\n",
        "median_even = find_median(my_list_even)\n",
        "print(f\"The median of {my_list_even} is: {median_even}\")"
      ],
      "metadata": {
        "colab": {
          "base_uri": "https://localhost:8080/"
        },
        "id": "Vn_ThGi4BsK2",
        "outputId": "2c8ce458-a16b-4638-c2f5-2f7eebe4910c"
      },
      "execution_count": null,
      "outputs": [
        {
          "output_type": "stream",
          "name": "stdout",
          "text": [
            "The median of [1, 3, 2, 5, 4] is: 3\n",
            "The median of [1, 3, 2, 5, 4, 6] is: 3.5\n"
          ]
        }
      ]
    },
    {
      "cell_type": "markdown",
      "source": [
        "34. Create a function that finds the intersection of two lists."
      ],
      "metadata": {
        "id": "f1zXAoJrVH2N"
      }
    },
    {
      "cell_type": "code",
      "source": [
        "def find_list_intersection(list1, list2):\n",
        "  return list(set(list1) & set(list2))\n",
        "\n",
        "list_a = [1, 2, 3, 4, 5]\n",
        "list_b = [3, 4, 5, 6, 7]\n",
        "intersection = find_list_intersection(list_a, list_b)\n",
        "print(f\"The intersection of {list_a} and {list_b} is: {intersection}\")\n",
        "\n",
        "list_c = ['apple', 'banana', 'orange']\n",
        "list_d = ['grape', 'banana', 'kiwi', 'apple']\n",
        "intersection_2 = find_list_intersection(list_c, list_d)\n",
        "print(f\"The intersection of {list_c} and {list_d} is: {intersection_2}\")"
      ],
      "metadata": {
        "colab": {
          "base_uri": "https://localhost:8080/"
        },
        "id": "WCG8CoRSCUaz",
        "outputId": "2ac440fc-9b27-4566-9998-c80b05753213"
      },
      "execution_count": null,
      "outputs": [
        {
          "output_type": "stream",
          "name": "stdout",
          "text": [
            "The intersection of [1, 2, 3, 4, 5] and [3, 4, 5, 6, 7] is: [3, 4, 5]\n",
            "The intersection of ['apple', 'banana', 'orange'] and ['grape', 'banana', 'kiwi', 'apple'] is: ['apple', 'banana']\n"
          ]
        }
      ]
    },
    {
      "cell_type": "markdown",
      "source": [
        "35. Write a function that accepts variable number of arguments and returns their product."
      ],
      "metadata": {
        "id": "SiDjFIZDVJ1F"
      }
    },
    {
      "cell_type": "code",
      "source": [
        "def calculate_product(*args):\n",
        "  product = 1\n",
        "  for num in args:\n",
        "    product *= num\n",
        "  return product\n",
        "\n",
        "result1 = calculate_product(2, 3, 4)\n",
        "print(f\"The product of 2, 3, and 4 is: {result1}\")"
      ],
      "metadata": {
        "colab": {
          "base_uri": "https://localhost:8080/"
        },
        "id": "MyQZvgzMCvVm",
        "outputId": "cbf7d175-cd60-43f9-a67d-61a0fad18727"
      },
      "execution_count": null,
      "outputs": [
        {
          "output_type": "stream",
          "name": "stdout",
          "text": [
            "The product of 2, 3, and 4 is: 24\n"
          ]
        }
      ]
    },
    {
      "cell_type": "markdown",
      "source": [
        "36. Write a function that returns a list of tuples (element, index) from a list."
      ],
      "metadata": {
        "id": "JB1Y1HsIVMDt"
      }
    },
    {
      "cell_type": "code",
      "source": [
        "def list_with_indices(input_list):\n",
        "  return list(enumerate(input_list))\n",
        "\n",
        "my_list = ['a', 'b', 'c', 'd']\n",
        "list_of_tuples = list_with_indices(my_list)\n",
        "print(f\"Original list: {my_list}\")\n",
        "print(f\"List with element and index tuples: {list_of_tuples}\")"
      ],
      "metadata": {
        "colab": {
          "base_uri": "https://localhost:8080/"
        },
        "id": "f5RCoGyKDO-j",
        "outputId": "904e0eee-2cc0-46af-a2e1-05acb8f3bc4e"
      },
      "execution_count": null,
      "outputs": [
        {
          "output_type": "stream",
          "name": "stdout",
          "text": [
            "Original list: ['a', 'b', 'c', 'd']\n",
            "List with element and index tuples: [(0, 'a'), (1, 'b'), (2, 'c'), (3, 'd')]\n"
          ]
        }
      ]
    },
    {
      "cell_type": "markdown",
      "source": [
        "(37) Create a function that accepts a string and returns a dictionary of word counts."
      ],
      "metadata": {
        "id": "4jpQM2k9VOjt"
      }
    },
    {
      "cell_type": "code",
      "source": [
        "def word_count(input_string):\n",
        "  words = input_string.split()\n",
        "  word_counts = Counter(words)\n",
        "  return word_counts\n",
        "\n",
        "my_string = \"this is a test sentence this is a test\"\n",
        "counts = word_count(my_string)\n",
        "print(f\"Word counts for '{my_string}': {counts}\")"
      ],
      "metadata": {
        "colab": {
          "base_uri": "https://localhost:8080/"
        },
        "id": "wdN27iXEEG55",
        "outputId": "6266d66d-e604-4a02-e1d2-80902c311c48"
      },
      "execution_count": null,
      "outputs": [
        {
          "output_type": "stream",
          "name": "stdout",
          "text": [
            "Word counts for 'this is a test sentence this is a test': Counter({'this': 2, 'is': 2, 'a': 2, 'test': 2, 'sentence': 1})\n"
          ]
        }
      ]
    },
    {
      "cell_type": "markdown",
      "source": [
        "(38) Write a function that checks if a sentence is a pangram."
      ],
      "metadata": {
        "id": "7g7z3EnWVPsF"
      }
    },
    {
      "cell_type": "code",
      "source": [
        "import string\n",
        "\n",
        "def is_pangram(sentence):\n",
        "  alphabet = set(string.ascii_lowercase)\n",
        "  sentence_letters = set(char.lower() for char in sentence if char.isalpha())\n",
        "  return alphabet.issubset(sentence_letters)\n",
        "\n",
        "sentence1 = \"The quick brown fox jumps over the lazy dog\"\n",
        "if is_pangram(sentence1):\n",
        "  print(f\"'{sentence1}' is a pangram.\")\n",
        "else:\n",
        "  print(f\"'{sentence1}' is not a pangram.\")"
      ],
      "metadata": {
        "colab": {
          "base_uri": "https://localhost:8080/"
        },
        "id": "jhUUhiHKEP4Y",
        "outputId": "d8d3faec-6d20-4098-bee4-8cf1a202d3fe"
      },
      "execution_count": null,
      "outputs": [
        {
          "output_type": "stream",
          "name": "stdout",
          "text": [
            "'The quick brown fox jumps over the lazy dog' is a pangram.\n"
          ]
        }
      ]
    },
    {
      "cell_type": "markdown",
      "source": [
        "(39) Create a function that accepts a list and a value, and returns the index of the value (or -1)."
      ],
      "metadata": {
        "id": "jQUAZlgnVSIl"
      }
    },
    {
      "cell_type": "code",
      "source": [
        "def find_index(input_list, value):\n",
        "  try:\n",
        "    return input_list.index(value)\n",
        "  except ValueError:\n",
        "    return -1\n",
        "\n",
        "my_list = [10, 20, 30, 40, 50]\n",
        "value_to_find = 30\n",
        "index = find_index(my_list, value_to_find)\n",
        "print(f\"The index of {value_to_find} in {my_list} is: {index}\")\n",
        "\n",
        "value_to_find_not_present = 60\n",
        "index_not_present = find_index(my_list, value_to_find_not_present)\n",
        "print(f\"The index of {value_to_find_not_present} in {my_list} is: {index_not_present}\")"
      ],
      "metadata": {
        "colab": {
          "base_uri": "https://localhost:8080/"
        },
        "id": "tXZpejEmE0bk",
        "outputId": "2fabeafc-6403-4d35-efc6-f4f08e528374"
      },
      "execution_count": null,
      "outputs": [
        {
          "output_type": "stream",
          "name": "stdout",
          "text": [
            "The index of 30 in [10, 20, 30, 40, 50] is: 2\n",
            "The index of 60 in [10, 20, 30, 40, 50] is: -1\n"
          ]
        }
      ]
    },
    {
      "cell_type": "markdown",
      "source": [
        "(40) Write a function that counts the number of uppercase and lowercase characters in a string."
      ],
      "metadata": {
        "id": "_R0m-slhVXPN"
      }
    },
    {
      "cell_type": "code",
      "source": [
        "def count_upper_lower(input_string):\n",
        "  upper_count = 0\n",
        "  lower_count = 0\n",
        "  for char in input_string:\n",
        "    if 'A' <= char <= 'Z':\n",
        "      upper_count += 1\n",
        "    elif 'a' <= char <= 'z':\n",
        "      lower_count += 1\n",
        "  return upper_count, lower_count\n",
        "\n",
        "my_string = \"Hello World\"\n",
        "upper, lower = count_upper_lower(my_string)\n",
        "print(f\"Original string: '{my_string}'\")\n",
        "print(f\"Uppercase characters: {upper}\")\n",
        "print(f\"Lowercase characters: {lower}\")\n",
        "\n",
        "my_string_2 = \"PYTHON Programming\"\n",
        "upper_2, lower_2 = count_upper_lower(my_string_2)\n",
        "print(f\"Original string: '{my_string_2}'\")\n",
        "print(f\"Uppercase characters: {upper_2}\")\n",
        "print(f\"Lowercase characters: {lower_2}\")"
      ],
      "metadata": {
        "colab": {
          "base_uri": "https://localhost:8080/"
        },
        "id": "IT2T57NLE73W",
        "outputId": "fb2d3241-3c91-4ffc-aa28-b9b69e2801ea"
      },
      "execution_count": null,
      "outputs": [
        {
          "output_type": "stream",
          "name": "stdout",
          "text": [
            "Original string: 'Hello World'\n",
            "Uppercase characters: 2\n",
            "Lowercase characters: 8\n",
            "Original string: 'PYTHON Programming'\n",
            "Uppercase characters: 7\n",
            "Lowercase characters: 10\n"
          ]
        }
      ]
    }
  ]
}