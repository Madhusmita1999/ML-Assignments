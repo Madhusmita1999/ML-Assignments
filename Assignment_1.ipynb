{
  "nbformat": 4,
  "nbformat_minor": 0,
  "metadata": {
    "colab": {
      "provenance": [],
      "authorship_tag": "ABX9TyNGFshGEL/4o84nijTa2gSw"
    },
    "kernelspec": {
      "name": "python3",
      "display_name": "Python 3"
    },
    "language_info": {
      "name": "python"
    }
  },
  "cells": [
    {
      "cell_type": "markdown",
      "source": [
        "(1) print numbers from 1 to 10"
      ],
      "metadata": {
        "id": "AJ8_DHnvJ2zw"
      }
    },
    {
      "cell_type": "code",
      "execution_count": null,
      "metadata": {
        "id": "Bo-7wjiRESQz",
        "colab": {
          "base_uri": "https://localhost:8080/"
        },
        "outputId": "81081910-18f1-4408-af50-bf69b0107e37"
      },
      "outputs": [
        {
          "output_type": "stream",
          "name": "stdout",
          "text": [
            "1\n",
            "2\n",
            "3\n",
            "4\n",
            "5\n",
            "6\n",
            "7\n",
            "8\n",
            "9\n",
            "10\n"
          ]
        }
      ],
      "source": [
        "for i in range(1, 11):\n",
        "  print(i)"
      ]
    },
    {
      "cell_type": "markdown",
      "source": [
        "2) Print even numbers from 1 to 20"
      ],
      "metadata": {
        "id": "yWtjxxiUJ7qX"
      }
    },
    {
      "cell_type": "code",
      "source": [
        "for i in range(2, 21, 2):\n",
        "  print(i)"
      ],
      "metadata": {
        "colab": {
          "base_uri": "https://localhost:8080/"
        },
        "id": "OYrFB0CWKMJH",
        "outputId": "3f270d8e-4b3c-40dc-b42e-4d558f1d9c90"
      },
      "execution_count": null,
      "outputs": [
        {
          "output_type": "stream",
          "name": "stdout",
          "text": [
            "2\n",
            "4\n",
            "6\n",
            "8\n",
            "10\n",
            "12\n",
            "14\n",
            "16\n",
            "18\n",
            "20\n"
          ]
        }
      ]
    },
    {
      "cell_type": "markdown",
      "source": [
        "(3) Check if a number is positive, negative or zero."
      ],
      "metadata": {
        "id": "ZpX_XaKeKfu_"
      }
    },
    {
      "cell_type": "code",
      "source": [
        "num = 0\n",
        "if num > 0:\n",
        "  print(\"Positive number\")\n",
        "elif num < 0:\n",
        "  print(\"Negative number\")\n",
        "else:\n",
        "  print(\"Zero\")"
      ],
      "metadata": {
        "colab": {
          "base_uri": "https://localhost:8080/"
        },
        "id": "a0kocCN_Kb3P",
        "outputId": "11835d93-3268-45eb-e1cc-274a1da75f9f"
      },
      "execution_count": null,
      "outputs": [
        {
          "output_type": "stream",
          "name": "stdout",
          "text": [
            "Zero\n"
          ]
        }
      ]
    },
    {
      "cell_type": "markdown",
      "source": [
        "(4) Add two numbers using operators."
      ],
      "metadata": {
        "id": "TaapgAHWLWOe"
      }
    },
    {
      "cell_type": "code",
      "source": [
        "a = 5\n",
        "b = 3\n",
        "sum = a + b\n",
        "print(f\"The sum of {a} and {b} is: {sum}\")"
      ],
      "metadata": {
        "colab": {
          "base_uri": "https://localhost:8080/"
        },
        "id": "DFatwXphK_8m",
        "outputId": "87d8dd7f-4d46-4704-c51a-afe361a38821"
      },
      "execution_count": null,
      "outputs": [
        {
          "output_type": "stream",
          "name": "stdout",
          "text": [
            "The sum of 5 and 3 is: 8\n"
          ]
        }
      ]
    },
    {
      "cell_type": "markdown",
      "source": [
        "(5) Print multiplication table of a number."
      ],
      "metadata": {
        "id": "Ng_bKSTqMLfP"
      }
    },
    {
      "cell_type": "code",
      "source": [
        "number =19\n",
        "for i in range(1, 11):\n",
        "    print(f\"{number} x {i} = {number * i}\")"
      ],
      "metadata": {
        "colab": {
          "base_uri": "https://localhost:8080/"
        },
        "id": "G0CFO0YTMnm3",
        "outputId": "dd061d37-51ca-43c4-9dc3-cddcc6f2dac5"
      },
      "execution_count": null,
      "outputs": [
        {
          "output_type": "stream",
          "name": "stdout",
          "text": [
            "19 x 1 = 19\n",
            "19 x 2 = 38\n",
            "19 x 3 = 57\n",
            "19 x 4 = 76\n",
            "19 x 5 = 95\n",
            "19 x 6 = 114\n",
            "19 x 7 = 133\n",
            "19 x 8 = 152\n",
            "19 x 9 = 171\n",
            "19 x 10 = 190\n"
          ]
        }
      ]
    },
    {
      "cell_type": "markdown",
      "source": [
        "(6) Find the largest among two numbers."
      ],
      "metadata": {
        "id": "4-VqQwe7NN1H"
      }
    },
    {
      "cell_type": "code",
      "source": [
        "x = 10\n",
        "y = 5\n",
        "if x >= y:\n",
        "  print(f\"{x} is the largest number.\")\n",
        "else:\n",
        "  print(f\"{y} is the largest number.\")"
      ],
      "metadata": {
        "colab": {
          "base_uri": "https://localhost:8080/"
        },
        "id": "ujQN0PqWNMbv",
        "outputId": "7acd3abb-1468-4266-b4dc-2acb69aa5c2b"
      },
      "execution_count": null,
      "outputs": [
        {
          "output_type": "stream",
          "name": "stdout",
          "text": [
            "10 is the largest number.\n"
          ]
        }
      ]
    },
    {
      "cell_type": "markdown",
      "source": [
        "(7) Use a while loop to print numbers 5 to 1."
      ],
      "metadata": {
        "id": "BQXWF_tUOGNX"
      }
    },
    {
      "cell_type": "code",
      "source": [
        "i = 5\n",
        "while i >= 1:\n",
        "  print(i)\n",
        "  i -= 1"
      ],
      "metadata": {
        "colab": {
          "base_uri": "https://localhost:8080/"
        },
        "id": "ID7mrm7eZoEo",
        "outputId": "7d440a65-db18-4b02-fc33-c797123e8950"
      },
      "execution_count": null,
      "outputs": [
        {
          "output_type": "stream",
          "name": "stdout",
          "text": [
            "5\n",
            "4\n",
            "3\n",
            "2\n",
            "1\n"
          ]
        }
      ]
    },
    {
      "cell_type": "markdown",
      "source": [
        "(8) Print all characters in a string."
      ],
      "metadata": {
        "id": "797tuFkpOP8_"
      }
    },
    {
      "cell_type": "code",
      "source": [
        "s = \"My name is Madhusmita\"\n",
        "for char in s:\n",
        "  print(char)"
      ],
      "metadata": {
        "colab": {
          "base_uri": "https://localhost:8080/"
        },
        "id": "5D1GI2hbZvLX",
        "outputId": "0ecdbb85-cb50-4d1e-e5fc-3aadb356077e"
      },
      "execution_count": null,
      "outputs": [
        {
          "output_type": "stream",
          "name": "stdout",
          "text": [
            "M\n",
            "y\n",
            " \n",
            "n\n",
            "a\n",
            "m\n",
            "e\n",
            " \n",
            "i\n",
            "s\n",
            " \n",
            "M\n",
            "a\n",
            "d\n",
            "h\n",
            "u\n",
            "s\n",
            "m\n",
            "i\n",
            "t\n",
            "a\n"
          ]
        }
      ]
    },
    {
      "cell_type": "markdown",
      "source": [
        "(9) Use logical Operator to check if a number is betwen 10 and 50."
      ],
      "metadata": {
        "id": "vwxi1WGGOoBe"
      }
    },
    {
      "cell_type": "code",
      "source": [
        "n = 35\n",
        "if n > 10 and n < 50:\n",
        "  print(f\"{n} is between 10 and 50.\")\n",
        "else:\n",
        "  print(f\"{n} is not between 10 and 50.\")"
      ],
      "metadata": {
        "colab": {
          "base_uri": "https://localhost:8080/"
        },
        "id": "e8cq64eNavA4",
        "outputId": "70ec75e6-9ee1-4df5-f81d-f1c00ad9a7b2"
      },
      "execution_count": null,
      "outputs": [
        {
          "output_type": "stream",
          "name": "stdout",
          "text": [
            "35 is between 10 and 50.\n"
          ]
        }
      ]
    },
    {
      "cell_type": "markdown",
      "source": [
        "(10) Sum of first 10 natural numbers."
      ],
      "metadata": {
        "id": "_Be82gbyOwuu"
      }
    },
    {
      "cell_type": "code",
      "source": [
        "sum = 0\n",
        "for i in range(1, 11):\n",
        "  sum += i\n",
        "print(f\"The sum of the first 10 natural numbers is: {sum}\")"
      ],
      "metadata": {
        "colab": {
          "base_uri": "https://localhost:8080/"
        },
        "id": "ujVU8Gd5bD-A",
        "outputId": "19571c4c-d3c1-42ec-fa0e-2077e8d4f856"
      },
      "execution_count": null,
      "outputs": [
        {
          "output_type": "stream",
          "name": "stdout",
          "text": [
            "The sum of the first 10 natural numbers is: 55\n"
          ]
        }
      ]
    },
    {
      "cell_type": "markdown",
      "source": [
        "(11) Print \"Odd\" Or \"Even\" for numbers 1 to 10."
      ],
      "metadata": {
        "id": "k9EGDSNWO132"
      }
    },
    {
      "cell_type": "code",
      "source": [
        "for i in range(1, 11):\n",
        "  if i % 2 == 0:\n",
        "    print(f\"{i} ->Even\")\n",
        "  else:\n",
        "    print(f\"{i} ->Odd\")"
      ],
      "metadata": {
        "colab": {
          "base_uri": "https://localhost:8080/"
        },
        "id": "fxXtZ0O4bfSg",
        "outputId": "11ba37e4-28b3-4c09-8e0c-8ad49e4e9b60"
      },
      "execution_count": null,
      "outputs": [
        {
          "output_type": "stream",
          "name": "stdout",
          "text": [
            "1 ->Odd\n",
            "2 ->Even\n",
            "3 ->Odd\n",
            "4 ->Even\n",
            "5 ->Odd\n",
            "6 ->Even\n",
            "7 ->Odd\n",
            "8 ->Even\n",
            "9 ->Odd\n",
            "10 ->Even\n"
          ]
        }
      ]
    },
    {
      "cell_type": "markdown",
      "source": [
        "(12) Use \"break to stop loop when number is 5."
      ],
      "metadata": {
        "id": "BejF2g3KO9XX"
      }
    },
    {
      "cell_type": "code",
      "source": [
        "for i in range(1, 11):\n",
        "  print(i)\n",
        "  if i == 5:\n",
        "    break\n"
      ],
      "metadata": {
        "colab": {
          "base_uri": "https://localhost:8080/"
        },
        "id": "a4gp28aScD45",
        "outputId": "f88c1f24-1a7b-4d07-f0cb-18da903f65d3"
      },
      "execution_count": null,
      "outputs": [
        {
          "output_type": "stream",
          "name": "stdout",
          "text": [
            "1\n",
            "2\n",
            "3\n",
            "4\n",
            "5\n"
          ]
        }
      ]
    },
    {
      "cell_type": "markdown",
      "source": [
        "(13) Print 1 to 10 and use continue to skip printing 5."
      ],
      "metadata": {
        "id": "sxTZfFw0PDd3"
      }
    },
    {
      "cell_type": "code",
      "source": [
        "for i in range(1, 11):\n",
        "  if i == 5:\n",
        "    continue\n",
        "print(i)"
      ],
      "metadata": {
        "colab": {
          "base_uri": "https://localhost:8080/"
        },
        "id": "8o-oTRAbccdB",
        "outputId": "dd001212-08e9-4b71-cccc-cc6c17e0a28d"
      },
      "execution_count": null,
      "outputs": [
        {
          "output_type": "stream",
          "name": "stdout",
          "text": [
            "10\n"
          ]
        }
      ]
    },
    {
      "cell_type": "markdown",
      "source": [
        "(14) Print all elements in a list using a loop."
      ],
      "metadata": {
        "id": "6XhoIKJmPKWe"
      }
    },
    {
      "cell_type": "code",
      "source": [
        "my_list = [1, 2, 3, 4, 5, 'apple', 'banana', 'cherry']\n",
        "for i in my_list:\n",
        "  print(i)"
      ],
      "metadata": {
        "colab": {
          "base_uri": "https://localhost:8080/"
        },
        "id": "Lf2aEhQYcu84",
        "outputId": "daac01bb-bac4-4f6c-e831-ad12832f4cc2"
      },
      "execution_count": null,
      "outputs": [
        {
          "output_type": "stream",
          "name": "stdout",
          "text": [
            "1\n",
            "2\n",
            "3\n",
            "4\n",
            "5\n",
            "apple\n",
            "banana\n",
            "cherry\n"
          ]
        }
      ]
    },
    {
      "cell_type": "markdown",
      "source": [
        "(15) Check if a number is divisible by both 3 and 5."
      ],
      "metadata": {
        "id": "lhPj0BbrPP_O"
      }
    },
    {
      "cell_type": "code",
      "source": [
        "n = 30\n",
        "if n % 3 == 0 and n % 5 == 0:\n",
        "  print(f\"{n} is divisible by both 3 and 5.\")\n",
        "else:\n",
        "  print(f\"{n} is not divisible by both 3 and 5.\")"
      ],
      "metadata": {
        "id": "eaUfz6YRdHzp",
        "colab": {
          "base_uri": "https://localhost:8080/"
        },
        "outputId": "c6fb891c-19d7-45fe-8e30-51dc36fa08e6"
      },
      "execution_count": null,
      "outputs": [
        {
          "output_type": "stream",
          "name": "stdout",
          "text": [
            "30 is divisible by both 3 and 5.\n"
          ]
        }
      ]
    },
    {
      "cell_type": "markdown",
      "source": [
        "(16) Square of all numbers from 1 to 5."
      ],
      "metadata": {
        "id": "03owzSZwPW1G"
      }
    },
    {
      "cell_type": "code",
      "source": [
        "for i in range(1, 6):\n",
        "  j=i**2\n",
        "  print(f\"Square of {i} = {j}\")"
      ],
      "metadata": {
        "colab": {
          "base_uri": "https://localhost:8080/"
        },
        "id": "CRcZvpfsD05o",
        "outputId": "0947cb51-82d1-4e43-bd56-e510b2fbe7c0"
      },
      "execution_count": null,
      "outputs": [
        {
          "output_type": "stream",
          "name": "stdout",
          "text": [
            "Square of 1 = 1\n",
            "Square of 2 = 4\n",
            "Square of 3 = 9\n",
            "Square of 4 = 16\n",
            "Square of 5 = 25\n"
          ]
        }
      ]
    },
    {
      "cell_type": "markdown",
      "source": [
        "(17)Print ASCII values of characters in a string."
      ],
      "metadata": {
        "id": "H20ptq6HPb4_"
      }
    },
    {
      "cell_type": "code",
      "source": [
        "x = \"Madhu\"\n",
        "for char in x:\n",
        "  print(f\"The ASCII value of '{char}' is {ord(char)}\")"
      ],
      "metadata": {
        "colab": {
          "base_uri": "https://localhost:8080/"
        },
        "id": "00hJS5O7EIYB",
        "outputId": "ebdc8cb9-a04f-4723-de60-394a18b2609f"
      },
      "execution_count": null,
      "outputs": [
        {
          "output_type": "stream",
          "name": "stdout",
          "text": [
            "The ASCII value of 'M' is 77\n",
            "The ASCII value of 'a' is 97\n",
            "The ASCII value of 'd' is 100\n",
            "The ASCII value of 'h' is 104\n",
            "The ASCII value of 'u' is 117\n"
          ]
        }
      ]
    },
    {
      "cell_type": "markdown",
      "source": [
        "(18) Count down from 10 to 1 using while."
      ],
      "metadata": {
        "id": "d0RTy7yHPix2"
      }
    },
    {
      "cell_type": "code",
      "source": [
        "i = 10\n",
        "while i >= 1:\n",
        "  print(i)\n",
        "  i -= 1\n"
      ],
      "metadata": {
        "colab": {
          "base_uri": "https://localhost:8080/"
        },
        "id": "SNr_kql8EpGx",
        "outputId": "a277d63c-2409-4e77-cc95-83897cb478b3"
      },
      "execution_count": null,
      "outputs": [
        {
          "output_type": "stream",
          "name": "stdout",
          "text": [
            "10\n",
            "9\n",
            "8\n",
            "7\n",
            "6\n",
            "5\n",
            "4\n",
            "3\n",
            "2\n",
            "1\n"
          ]
        }
      ]
    },
    {
      "cell_type": "markdown",
      "source": [
        "(19) Check if a number is divisible by 2 or 3."
      ],
      "metadata": {
        "id": "QhyhkpZkPnq-"
      }
    },
    {
      "cell_type": "code",
      "source": [
        "n = 6\n",
        "if n % 2 == 0 or n % 3 == 0:\n",
        "  print(f\"{n} is divisible by 2 or 3.\")\n",
        "else:\n",
        "  print(f\"{n} is not divisible by 2 or 3.\")"
      ],
      "metadata": {
        "colab": {
          "base_uri": "https://localhost:8080/"
        },
        "id": "9Twy9BWJEu9R",
        "outputId": "8bf7e781-ffd8-4d0d-e098-20b530e7e4d1"
      },
      "execution_count": null,
      "outputs": [
        {
          "output_type": "stream",
          "name": "stdout",
          "text": [
            "6 is divisible by 2 or 3.\n"
          ]
        }
      ]
    },
    {
      "cell_type": "markdown",
      "source": [
        "(20) Print sum of digits of a number."
      ],
      "metadata": {
        "id": "Q9muo8prPtym"
      }
    },
    {
      "cell_type": "code",
      "source": [
        "num = 72076091\n",
        "sum = 0\n",
        "temp = num\n",
        "while temp > 0:\n",
        "   digit = temp % 10\n",
        "   sum += digit\n",
        "   temp //= 10\n",
        "print(f\"The sum of digits of {num} is: {sum}\")"
      ],
      "metadata": {
        "colab": {
          "base_uri": "https://localhost:8080/"
        },
        "id": "3iy5AqDaE2eI",
        "outputId": "b63a780d-e6c9-4adc-b988-59217b5d9a0d"
      },
      "execution_count": null,
      "outputs": [
        {
          "output_type": "stream",
          "name": "stdout",
          "text": [
            "The sum of digits of 72076091 is: 32\n"
          ]
        }
      ]
    },
    {
      "cell_type": "markdown",
      "source": [
        "(21) Swap two numbers using a temporary variable."
      ],
      "metadata": {
        "id": "HLgW9TPXQZ3_"
      }
    },
    {
      "cell_type": "code",
      "source": [
        "x = 10\n",
        "y = 20\n",
        "\n",
        "print(f\"Before swapping: x = {x}, y = {y}\")\n",
        "\n",
        "temp = x\n",
        "x = y\n",
        "y = temp\n",
        "\n",
        "print(f\"After swapping: x = {x}, y = {y}\")"
      ],
      "metadata": {
        "colab": {
          "base_uri": "https://localhost:8080/"
        },
        "id": "0BvXSPv4FseR",
        "outputId": "2ff8a81d-9c44-427b-c46e-279c9160438e"
      },
      "execution_count": null,
      "outputs": [
        {
          "output_type": "stream",
          "name": "stdout",
          "text": [
            "Before swapping: x = 10, y = 20\n",
            "After swapping: x = 20, y = 10\n"
          ]
        }
      ]
    },
    {
      "cell_type": "markdown",
      "source": [
        "(22)Print numbers from 1 to 100 that are divisible by 7."
      ],
      "metadata": {
        "id": "zbvXR-feQfgO"
      }
    },
    {
      "cell_type": "code",
      "source": [
        "for i in range(1, 101):\n",
        "  if i % 7 == 0:\n",
        "    print(i)"
      ],
      "metadata": {
        "colab": {
          "base_uri": "https://localhost:8080/"
        },
        "id": "C1xqmN6hGB2J",
        "outputId": "bf844436-57d1-4879-df0c-a05f9f946a35"
      },
      "execution_count": null,
      "outputs": [
        {
          "output_type": "stream",
          "name": "stdout",
          "text": [
            "7\n",
            "14\n",
            "21\n",
            "28\n",
            "35\n",
            "42\n",
            "49\n",
            "56\n",
            "63\n",
            "70\n",
            "77\n",
            "84\n",
            "91\n",
            "98\n"
          ]
        }
      ]
    },
    {
      "cell_type": "markdown",
      "source": [
        "(23) Find the factorial of a number."
      ],
      "metadata": {
        "id": "qPgKWQBwQy72"
      }
    },
    {
      "cell_type": "code",
      "source": [
        "def fact(n):\n",
        "  if n == 0:\n",
        "    return 1\n",
        "  else:\n",
        "    return n * fact(n - 1)\n",
        "\n",
        "x = 5\n",
        "print(f\"The factorial of {x} is: {fact(x)}\")\n"
      ],
      "metadata": {
        "colab": {
          "base_uri": "https://localhost:8080/"
        },
        "id": "bW1PUkT1GO-Z",
        "outputId": "c6450fe4-6e7a-4eea-86e7-a750d9580e1d"
      },
      "execution_count": null,
      "outputs": [
        {
          "output_type": "stream",
          "name": "stdout",
          "text": [
            "The factorial of 5 is: 120\n"
          ]
        }
      ]
    },
    {
      "cell_type": "markdown",
      "source": [
        "(24) Count vowels in a string."
      ],
      "metadata": {
        "id": "RRKk7TPAQ4I-"
      }
    },
    {
      "cell_type": "code",
      "source": [
        "def count_vowels(s):\n",
        "  vowels = \"aeiouAEIOU\"\n",
        "  vowel_count = 0\n",
        "  for char in s:\n",
        "    if char in vowels:\n",
        "      vowel_count += 1\n",
        "  return vowel_count\n",
        "\n",
        "my_string = \"This is a sample string\"\n",
        "num_vowels = count_vowels(my_string)\n",
        "print(f\"The number of vowels in '{my_string}' is: {num_vowels}\")"
      ],
      "metadata": {
        "colab": {
          "base_uri": "https://localhost:8080/"
        },
        "id": "g85ND41JGcX6",
        "outputId": "6aab5b04-c3e8-4fb7-f59c-b26eb340cad3"
      },
      "execution_count": null,
      "outputs": [
        {
          "output_type": "stream",
          "name": "stdout",
          "text": [
            "The number of vowels in 'This is a sample string' is: 6\n"
          ]
        }
      ]
    },
    {
      "cell_type": "markdown",
      "source": [
        "(25) Reverse a number using loop."
      ],
      "metadata": {
        "id": "mavdPsgIQ7we"
      }
    },
    {
      "cell_type": "code",
      "source": [
        "n = 76072\n",
        "reverse = 0\n",
        "\n",
        "while n > 0:\n",
        "    digit = n % 10\n",
        "    reverse = reverse * 10 + digit\n",
        "    n //= 10\n",
        "\n",
        "print(f\"The reversed number is: {reverse}\")"
      ],
      "metadata": {
        "colab": {
          "base_uri": "https://localhost:8080/"
        },
        "id": "I-hDsNTzUgSX",
        "outputId": "81121124-bb44-4c16-df68-dedd3b63df35"
      },
      "execution_count": null,
      "outputs": [
        {
          "output_type": "stream",
          "name": "stdout",
          "text": [
            "The reversed number is: 27067\n"
          ]
        }
      ]
    },
    {
      "cell_type": "markdown",
      "source": [
        "(26) Find the maximum in a list using loop."
      ],
      "metadata": {
        "id": "ZBM0r8OsRA1O"
      }
    },
    {
      "cell_type": "code",
      "source": [
        "numbers = [12, 45, 6, 89, 23, 7, 50]\n",
        "max = numbers[0]\n",
        "\n",
        "for num in numbers:\n",
        "    if num > max:\n",
        "        max = num\n",
        "\n",
        "print(f\"The maximum number in the list is: {max}\")"
      ],
      "metadata": {
        "colab": {
          "base_uri": "https://localhost:8080/"
        },
        "id": "UQ20BVa1XJTJ",
        "outputId": "1f9dae9b-97d4-4a48-f5c1-2c329f1268df"
      },
      "execution_count": null,
      "outputs": [
        {
          "output_type": "stream",
          "name": "stdout",
          "text": [
            "The maximum number in the list is: 89\n"
          ]
        }
      ]
    },
    {
      "cell_type": "markdown",
      "source": [
        "(27) Prime number check using loop."
      ],
      "metadata": {
        "id": "j55zwZYbRIZW"
      }
    },
    {
      "cell_type": "code",
      "source": [
        "def is_prime(n):\n",
        "  if n <= 1:\n",
        "    return False\n",
        "  for i in range(2, int(n**0.5) + 1):\n",
        "    if n % i == 0:\n",
        "      return False\n",
        "  return True\n",
        "\n",
        "num = 17\n",
        "if is_prime(num):\n",
        "  print(f\"{num} is a prime number.\")\n",
        "else:\n",
        "  print(f\"{num} is not a prime number.\")\n",
        "\n",
        "num = 15\n",
        "if is_prime(num):\n",
        "  print(f\"{num} is a prime number.\")\n",
        "else:\n",
        "  print(f\"{num} is not a prime number.\")"
      ],
      "metadata": {
        "colab": {
          "base_uri": "https://localhost:8080/"
        },
        "id": "rm-pjierXhOZ",
        "outputId": "894f481a-12e8-47db-a377-fc2992925955"
      },
      "execution_count": null,
      "outputs": [
        {
          "output_type": "stream",
          "name": "stdout",
          "text": [
            "17 is a prime number.\n",
            "15 is not a prime number.\n"
          ]
        }
      ]
    },
    {
      "cell_type": "markdown",
      "source": [
        "(28) Sum of even numbers in a list."
      ],
      "metadata": {
        "id": "s_h8BTB_RMx3"
      }
    },
    {
      "cell_type": "code",
      "source": [
        "numbers = [1, 2, 3, 4, 5, 6, 7, 8, 9, 10]\n",
        "sum = 0\n",
        "\n",
        "for num in numbers:\n",
        "  if num % 2 == 0:\n",
        "    sum += num\n",
        "\n",
        "print(f\"The sum of even numbers in the list is: {sum}\")"
      ],
      "metadata": {
        "colab": {
          "base_uri": "https://localhost:8080/"
        },
        "id": "OmTEyS8YX2Za",
        "outputId": "c21306cc-2270-4e79-9d28-d32c2c3b444b"
      },
      "execution_count": null,
      "outputs": [
        {
          "output_type": "stream",
          "name": "stdout",
          "text": [
            "The sum of even numbers in the list is: 30\n"
          ]
        }
      ]
    },
    {
      "cell_type": "markdown",
      "source": [
        "(29) Print number pattern using nested loops."
      ],
      "metadata": {
        "id": "UKIGgpKcRR5u"
      }
    },
    {
      "cell_type": "code",
      "source": [
        "rows = 5\n",
        "for i in range(1, rows + 1):\n",
        "    for j in range(1, i + 1):\n",
        "        print(j, end=\" \")\n",
        "    print()\n"
      ],
      "metadata": {
        "colab": {
          "base_uri": "https://localhost:8080/"
        },
        "id": "tx-PRgCgflBC",
        "outputId": "053fe887-aae3-4dc2-c9c2-83ab5da44936"
      },
      "execution_count": null,
      "outputs": [
        {
          "output_type": "stream",
          "name": "stdout",
          "text": [
            "1 \n",
            "1 2 \n",
            "1 2 3 \n",
            "1 2 3 4 \n",
            "1 2 3 4 5 \n"
          ]
        }
      ]
    },
    {
      "cell_type": "markdown",
      "source": [
        "(30) Count frequency of digits in a number."
      ],
      "metadata": {
        "id": "0ZwdJiXCRW1O"
      }
    },
    {
      "cell_type": "code",
      "source": [
        "num = 760720552944\n",
        "digit_counts = {}\n",
        "num_str = str(num)\n",
        "for digit in num_str:\n",
        "  if digit in digit_counts:\n",
        "    digit_counts[digit] += 1\n",
        "  else:\n",
        "    digit_counts[digit] = 1\n",
        "print(f\"Frequency of digits in {num}:\")\n",
        "for digit, count in digit_counts.items():\n",
        "  print(f\"Digit {digit}: {count}\")"
      ],
      "metadata": {
        "colab": {
          "base_uri": "https://localhost:8080/"
        },
        "id": "jFsgzVyFfpcJ",
        "outputId": "d55971d2-8d3d-4cab-81be-d0630ac44f29"
      },
      "execution_count": null,
      "outputs": [
        {
          "output_type": "stream",
          "name": "stdout",
          "text": [
            "Frequency of digits in 760720552944:\n",
            "Digit 7: 2\n",
            "Digit 6: 1\n",
            "Digit 0: 2\n",
            "Digit 2: 2\n",
            "Digit 5: 2\n",
            "Digit 9: 1\n",
            "Digit 4: 2\n"
          ]
        }
      ]
    },
    {
      "cell_type": "markdown",
      "source": [
        "(31) GCD of two numbers using loop."
      ],
      "metadata": {
        "id": "ldx_xHZSRdpG"
      }
    },
    {
      "cell_type": "code",
      "source": [
        "def gcd_loop(a, b):\n",
        "    minimum = min(a, b)\n",
        "\n",
        "    for i in range(minimum, 0, -1):\n",
        "        if a % i == 0 and b % i == 0:\n",
        "            return i\n",
        "    return 1\n",
        "\n",
        "x = 48\n",
        "y = 18\n",
        "result = gcd_loop(x, y)\n",
        "print(f\"The GCD of {x} and {y} using a loop is: {result}\")"
      ],
      "metadata": {
        "colab": {
          "base_uri": "https://localhost:8080/"
        },
        "id": "_Pw6UcvJfssx",
        "outputId": "822ef737-a5ac-4920-c04f-416d1c972992"
      },
      "execution_count": null,
      "outputs": [
        {
          "output_type": "stream",
          "name": "stdout",
          "text": [
            "The GCD of 48 and 18 using a loop is: 6\n"
          ]
        }
      ]
    },
    {
      "cell_type": "markdown",
      "source": [
        "(32) Check if a number is a palindrome."
      ],
      "metadata": {
        "id": "pK0FjUqwRib-"
      }
    },
    {
      "cell_type": "code",
      "source": [
        "def is_palindrome(n):\n",
        "  num_str = str(n)\n",
        "  return num_str == num_str[::-1]\n",
        "\n",
        "x = 1234321\n",
        "if is_palindrome(x):\n",
        "  print(f\"{x} is a palindrome.\")\n",
        "else:\n",
        "  print(f\"{x} is not a palindrome.\")"
      ],
      "metadata": {
        "colab": {
          "base_uri": "https://localhost:8080/"
        },
        "id": "Lva-fZsRfv3h",
        "outputId": "23bf20c3-3f52-4f20-af0a-5e540205e49d"
      },
      "execution_count": null,
      "outputs": [
        {
          "output_type": "stream",
          "name": "stdout",
          "text": [
            "1234321 is a palindrome.\n"
          ]
        }
      ]
    },
    {
      "cell_type": "markdown",
      "source": [
        "(33) Count words in a sentence."
      ],
      "metadata": {
        "id": "IzBTSJjlRnae"
      }
    },
    {
      "cell_type": "code",
      "source": [
        "sentence = \"Hii!! This is the code for Count words in a sentence.\"\n",
        "words = sentence.split()\n",
        "word_count = len(words)\n",
        "print(f\"The sentence is: '{sentence}'\")\n",
        "print(f\"The number of words in the sentence is: {word_count}\")"
      ],
      "metadata": {
        "colab": {
          "base_uri": "https://localhost:8080/"
        },
        "id": "NzqghfD5fyuS",
        "outputId": "20dba4bc-43c3-4b8e-c37e-4630722aa65e"
      },
      "execution_count": null,
      "outputs": [
        {
          "output_type": "stream",
          "name": "stdout",
          "text": [
            "The sentence is: 'Hii!! This is the code for Count words in a sentence.'\n",
            "The number of words in the sentence is: 11\n"
          ]
        }
      ]
    },
    {
      "cell_type": "markdown",
      "source": [
        "(34) Find common elements in two lists."
      ],
      "metadata": {
        "id": "PSmLi7x5RsX2"
      }
    },
    {
      "cell_type": "code",
      "source": [
        "l1 = [1, 2, 3, 4, 5]\n",
        "l2 = [4, 5, 6, 7, 8]\n",
        "common_elements = list(set(l1) & set(l2))\n",
        "print(f\"List 1: {l1}\")\n",
        "print(f\"List 2: {l2}\")\n",
        "print(f\"Common elements: {common_elements}\")"
      ],
      "metadata": {
        "colab": {
          "base_uri": "https://localhost:8080/"
        },
        "id": "D_EiijQ2f1th",
        "outputId": "07cef6e9-6c49-413c-d1f6-f5213440dc34"
      },
      "execution_count": null,
      "outputs": [
        {
          "output_type": "stream",
          "name": "stdout",
          "text": [
            "List 1: [1, 2, 3, 4, 5]\n",
            "List 2: [4, 5, 6, 7, 8]\n",
            "Common elements: [4, 5]\n"
          ]
        }
      ]
    },
    {
      "cell_type": "markdown",
      "source": [
        "(35) Use elif to grade students based on score."
      ],
      "metadata": {
        "id": "iChn0FBORxfe"
      }
    },
    {
      "cell_type": "code",
      "source": [
        "score = 75\n",
        "\n",
        "if score >= 90:\n",
        "  grade = 'A'\n",
        "elif score >= 80:\n",
        "  grade = 'B'\n",
        "elif score >= 70:\n",
        "  grade = 'C'\n",
        "elif score >= 60:\n",
        "  grade = 'D'\n",
        "else:\n",
        "  grade = 'F'\n",
        "\n",
        "print(f\"With a score of {score}, the student's grade is: {grade}\")\n"
      ],
      "metadata": {
        "colab": {
          "base_uri": "https://localhost:8080/"
        },
        "id": "xgZGApU1i5KL",
        "outputId": "ca8764dd-0860-43d7-efaf-90f970e7e14e"
      },
      "execution_count": null,
      "outputs": [
        {
          "output_type": "stream",
          "name": "stdout",
          "text": [
            "With a score of 75, the student's grade is: C\n"
          ]
        }
      ]
    },
    {
      "cell_type": "markdown",
      "source": [
        "(36) Print a right-angled triangle using *."
      ],
      "metadata": {
        "id": "QAgpLsf2R3hm"
      }
    },
    {
      "cell_type": "code",
      "source": [
        "rows = 5\n",
        "for i in range(1, rows + 1):\n",
        "    print(\"*\" * i)"
      ],
      "metadata": {
        "colab": {
          "base_uri": "https://localhost:8080/"
        },
        "id": "x2PLRNtbf6dJ",
        "outputId": "c2416b25-7cbc-4f7d-b9ec-4b7f4db0be09"
      },
      "execution_count": null,
      "outputs": [
        {
          "output_type": "stream",
          "name": "stdout",
          "text": [
            "*\n",
            "**\n",
            "***\n",
            "****\n",
            "*****\n"
          ]
        }
      ]
    },
    {
      "cell_type": "markdown",
      "source": [
        "(37) Check if a year is a leap year."
      ],
      "metadata": {
        "id": "147c5NObR_Bm"
      }
    },
    {
      "cell_type": "code",
      "source": [
        "year = 2024\n",
        "if (year % 4 == 0 and year % 100 != 0) or (year % 400 == 0):\n",
        "  print(f\"{year} is a leap year.\")\n",
        "else:\n",
        "  print(f\"{year} is not a leap year.\")"
      ],
      "metadata": {
        "colab": {
          "base_uri": "https://localhost:8080/"
        },
        "id": "mkfmVNRff8ra",
        "outputId": "f57d8ed3-ef54-4ccc-f1b6-322e5ca1152c"
      },
      "execution_count": null,
      "outputs": [
        {
          "output_type": "stream",
          "name": "stdout",
          "text": [
            "2024 is a leap year.\n"
          ]
        }
      ]
    },
    {
      "cell_type": "markdown",
      "source": [
        "(38) Print Fibonacci series using loop."
      ],
      "metadata": {
        "id": "scuvPzc9SEC-"
      }
    },
    {
      "cell_type": "code",
      "source": [
        "n = 10\n",
        "a = 0\n",
        "b = 1\n",
        "\n",
        "print(\"Fibonacci series:\")\n",
        "count = 0\n",
        "\n",
        "if n <= 0:\n",
        "  print(\"Please enter a positive integer\")\n",
        "elif n == 1:\n",
        "  print(a)\n",
        "else:\n",
        "  while count < n :\n",
        "    print(a)\n",
        "    temp = a + b\n",
        "    a = b\n",
        "    b = temp\n",
        "    count += 1"
      ],
      "metadata": {
        "colab": {
          "base_uri": "https://localhost:8080/"
        },
        "id": "mCzfcMlfjM7D",
        "outputId": "9ef07819-26ce-47e5-c7d3-2f20b6f189d8"
      },
      "execution_count": null,
      "outputs": [
        {
          "output_type": "stream",
          "name": "stdout",
          "text": [
            "Fibonacci series:\n",
            "0\n",
            "1\n",
            "1\n",
            "2\n",
            "3\n",
            "5\n",
            "8\n",
            "13\n",
            "21\n",
            "34\n"
          ]
        }
      ]
    },
    {
      "cell_type": "markdown",
      "source": [
        "(39) Count uppercase and lowercase letters in a string."
      ],
      "metadata": {
        "id": "pLW3EPjtSJOe"
      }
    },
    {
      "cell_type": "code",
      "source": [
        "s = \"This String Has Upper and Lowercase Letters!\"\n",
        "uppercount = 0\n",
        "lowercount = 0\n",
        "\n",
        "for char in s:\n",
        "  if 'A' <= char <= 'Z':\n",
        "    uppercount += 1\n",
        "  elif 'a' <= char <= 'z':\n",
        "    lowercount += 1\n",
        "\n",
        "print(f\"The string is: '{s}'\")\n",
        "print(f\"Number of uppercase letters: {uppercount}\")\n",
        "print(f\"Number of lowercase letters: {lowercount}\")"
      ],
      "metadata": {
        "colab": {
          "base_uri": "https://localhost:8080/"
        },
        "id": "oXVGwf7_kIx8",
        "outputId": "4e581710-d641-49c7-c3ca-993877121af4"
      },
      "execution_count": null,
      "outputs": [
        {
          "output_type": "stream",
          "name": "stdout",
          "text": [
            "The string is: 'This String Has Upper and Lowercase Letters!'\n",
            "Number of uppercase letters: 6\n",
            "Number of lowercase letters: 31\n"
          ]
        }
      ]
    },
    {
      "cell_type": "markdown",
      "source": [
        "(40) Print numbers from 100 to 1 using loop."
      ],
      "metadata": {
        "id": "bM7dcSVXSPQG"
      }
    },
    {
      "cell_type": "code",
      "source": [
        "for i in range(100, 0, -1):\n",
        "  print(i)"
      ],
      "metadata": {
        "colab": {
          "base_uri": "https://localhost:8080/"
        },
        "id": "rzMl0tK1kXu0",
        "outputId": "27b62bd8-0fbc-4e8d-b72f-f9c782c48d55"
      },
      "execution_count": null,
      "outputs": [
        {
          "output_type": "stream",
          "name": "stdout",
          "text": [
            "100\n",
            "99\n",
            "98\n",
            "97\n",
            "96\n",
            "95\n",
            "94\n",
            "93\n",
            "92\n",
            "91\n",
            "90\n",
            "89\n",
            "88\n",
            "87\n",
            "86\n",
            "85\n",
            "84\n",
            "83\n",
            "82\n",
            "81\n",
            "80\n",
            "79\n",
            "78\n",
            "77\n",
            "76\n",
            "75\n",
            "74\n",
            "73\n",
            "72\n",
            "71\n",
            "70\n",
            "69\n",
            "68\n",
            "67\n",
            "66\n",
            "65\n",
            "64\n",
            "63\n",
            "62\n",
            "61\n",
            "60\n",
            "59\n",
            "58\n",
            "57\n",
            "56\n",
            "55\n",
            "54\n",
            "53\n",
            "52\n",
            "51\n",
            "50\n",
            "49\n",
            "48\n",
            "47\n",
            "46\n",
            "45\n",
            "44\n",
            "43\n",
            "42\n",
            "41\n",
            "40\n",
            "39\n",
            "38\n",
            "37\n",
            "36\n",
            "35\n",
            "34\n",
            "33\n",
            "32\n",
            "31\n",
            "30\n",
            "29\n",
            "28\n",
            "27\n",
            "26\n",
            "25\n",
            "24\n",
            "23\n",
            "22\n",
            "21\n",
            "20\n",
            "19\n",
            "18\n",
            "17\n",
            "16\n",
            "15\n",
            "14\n",
            "13\n",
            "12\n",
            "11\n",
            "10\n",
            "9\n",
            "8\n",
            "7\n",
            "6\n",
            "5\n",
            "4\n",
            "3\n",
            "2\n",
            "1\n"
          ]
        }
      ]
    }
  ]
}